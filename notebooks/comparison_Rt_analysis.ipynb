{
 "cells": [
  {
   "cell_type": "markdown",
   "metadata": {},
   "source": [
    "## A comparison of PlotRt (ours) and EpiEstim (Cori et al) methods for computing Rt for various scenarios\n",
    "\n",
    "Authors: Eilif Muller"
   ]
  },
  {
   "cell_type": "code",
   "execution_count": 18,
   "metadata": {},
   "outputs": [],
   "source": [
    "import pickle\n",
    "import numpy as np\n",
    "import pandas as pd\n",
    "from scipy.interpolate import interp1d\n",
    "\n",
    "import covid19sim\n",
    "\n",
    "import matplotlib\n",
    "import matplotlib.pyplot as plt\n",
    "from matplotlib.lines import Line2D\n",
    "%matplotlib inline\n",
    "\n",
    "#import sys\n",
    "#sys.path.append(\"../plots\")\n",
    "from covid19sim.plotting.plot_rt import PlotRt\n",
    "from utils import plot_intervention\n",
    "import datetime"
   ]
  },
  {
   "cell_type": "markdown",
   "metadata": {},
   "source": [
    "An unmitigated simulation with serial interval fix"
   ]
  },
  {
   "cell_type": "code",
   "execution_count": 2,
   "metadata": {},
   "outputs": [],
   "source": [
    "filename = \"../exp/sim_v2_people-1000_days-30_init-0.002_seed-1000_20200602-232336/tracker_data_n_1000_seed_1000_20200602-233050_.pkl\""
   ]
  },
  {
   "cell_type": "code",
   "execution_count": 3,
   "metadata": {},
   "outputs": [],
   "source": [
    "with open(filename, \"rb\") as f:\n",
    "            data = pickle.load(f)"
   ]
  },
  {
   "cell_type": "code",
   "execution_count": 4,
   "metadata": {},
   "outputs": [
    {
     "data": {
      "text/plain": [
       "dict_keys(['intervention_day', 'intervention', 'risk_model', 'expected_mobility', 'serial_interval', 'all_serial_intervals', 'generation_times', 'mobility', 'n_init_infected', 'contacts', 'cases_per_day', 'ei_per_day', 'r_0', 'R', 'n_humans', 's', 'e', 'i', 'r', 'avg_infectiousness_per_day', 'risk_precision_global', 'risk_precision', 'human_monitor', 'infection_monitor', 'infector_infectee_update_messages', 'risk_attributes', 'feelings', 'rec_feelings', 'outside_daily_contacts', 'test_monitor', 'encounter_distances', 'effective_contacts_since_intervention', 'effective_contacts_all_days', 'humans_state', 'humans_rec_level'])"
      ]
     },
     "execution_count": 4,
     "metadata": {},
     "output_type": "execute_result"
    }
   ],
   "source": [
    "data.keys()"
   ]
  },
  {
   "cell_type": "code",
   "execution_count": 5,
   "metadata": {},
   "outputs": [],
   "source": [
    "si = data['all_serial_intervals']"
   ]
  },
  {
   "cell_type": "code",
   "execution_count": 6,
   "metadata": {},
   "outputs": [
    {
     "data": {
      "text/plain": [
       "223"
      ]
     },
     "execution_count": 6,
     "metadata": {},
     "output_type": "execute_result"
    }
   ],
   "source": [
    "len(si)"
   ]
  },
  {
   "cell_type": "code",
   "execution_count": 7,
   "metadata": {},
   "outputs": [],
   "source": [
    "si = np.array(si)"
   ]
  },
  {
   "cell_type": "code",
   "execution_count": 8,
   "metadata": {},
   "outputs": [
    {
     "data": {
      "text/plain": [
       "4.023807299451919"
      ]
     },
     "execution_count": 8,
     "metadata": {},
     "output_type": "execute_result"
    }
   ],
   "source": [
    "si.mean()"
   ]
  },
  {
   "cell_type": "code",
   "execution_count": 9,
   "metadata": {},
   "outputs": [
    {
     "data": {
      "text/plain": [
       "2.302133912818526"
      ]
     },
     "execution_count": 9,
     "metadata": {},
     "output_type": "execute_result"
    }
   ],
   "source": [
    "si.std()"
   ]
  },
  {
   "cell_type": "code",
   "execution_count": 10,
   "metadata": {},
   "outputs": [
    {
     "data": {
      "text/plain": [
       "Text(0.5, 0, 'serial interval (days)')"
      ]
     },
     "execution_count": 10,
     "metadata": {},
     "output_type": "execute_result"
    },
    {
     "data": {
      "image/png": "[encoded data removed]",
      "text/plain": [
       "<Figure size 432x288 with 1 Axes>"
      ]
     },
     "metadata": {
      "needs_background": "light"
     },
     "output_type": "display_data"
    }
   ],
   "source": [
    "plt.hist(si,bins=20)\n",
    "plt.ylabel('count')\n",
    "plt.xlabel('serial interval (days)')"
   ]
  },
  {
   "cell_type": "code",
   "execution_count": 11,
   "metadata": {},
   "outputs": [
    {
     "data": {
      "text/plain": [
       "-0.02847222222222222"
      ]
     },
     "execution_count": 11,
     "metadata": {},
     "output_type": "execute_result"
    }
   ],
   "source": [
    "si.min()"
   ]
  },
  {
   "cell_type": "code",
   "execution_count": 12,
   "metadata": {},
   "outputs": [],
   "source": [
    "im = data['infection_monitor']"
   ]
  },
  {
   "cell_type": "code",
   "execution_count": 13,
   "metadata": {},
   "outputs": [
    {
     "data": {
      "text/plain": [
       "{'from': 'human:562',\n",
       " 'from_risk': 0.01,\n",
       " 'from_risk_level': 0,\n",
       " 'from_rec_level': -1,\n",
       " 'from_infection_timestamp': datetime.datetime(2020, 2, 28, 0, 0),\n",
       " 'from_is_asymptomatic': False,\n",
       " 'to': 'human:563',\n",
       " 'to_risk': 0.01,\n",
       " 'to_risk_level': 0,\n",
       " 'to_rec_level': -1,\n",
       " 'infection_date': datetime.date(2020, 3, 1),\n",
       " 'infection_timestamp': datetime.datetime(2020, 3, 1, 20, 28),\n",
       " 'to_is_asymptomatic': False,\n",
       " 'location': 'household:166'}"
      ]
     },
     "execution_count": 13,
     "metadata": {},
     "output_type": "execute_result"
    }
   ],
   "source": [
    "im[0]"
   ]
  },
  {
   "cell_type": "code",
   "execution_count": 14,
   "metadata": {},
   "outputs": [],
   "source": [
    "df = pd.DataFrame(im)"
   ]
  },
  {
   "cell_type": "code",
   "execution_count": 15,
   "metadata": {},
   "outputs": [],
   "source": [
    "df[\"generation_time\"] = (df['infection_timestamp'] - df['from_infection_timestamp']).dt.total_seconds()/(24*60*60)"
   ]
  },
  {
   "cell_type": "code",
   "execution_count": 19,
   "metadata": {},
   "outputs": [],
   "source": [
    "df['infection_day'] = (df['infection_timestamp'] - datetime.datetime(2020, 2, 28, 0, 0)).dt.total_seconds()/(24*60*60)"
   ]
  },
  {
   "cell_type": "code",
   "execution_count": 20,
   "metadata": {},
   "outputs": [
    {
     "data": {
      "text/html": [
       "<div>\n",
       "<style scoped>\n",
       "    .dataframe tbody tr th:only-of-type {\n",
       "        vertical-align: middle;\n",
       "    }\n",
       "\n",
       "    .dataframe tbody tr th {\n",
       "        vertical-align: top;\n",
       "    }\n",
       "\n",
       "    .dataframe thead th {\n",
       "        text-align: right;\n",
       "    }\n",
       "</style>\n",
       "<table border=\"1\" class=\"dataframe\">\n",
       "  <thead>\n",
       "    <tr style=\"text-align: right;\">\n",
       "      <th></th>\n",
       "      <th>from</th>\n",
       "      <th>from_risk</th>\n",
       "      <th>from_risk_level</th>\n",
       "      <th>from_rec_level</th>\n",
       "      <th>from_infection_timestamp</th>\n",
       "      <th>from_is_asymptomatic</th>\n",
       "      <th>to</th>\n",
       "      <th>to_risk</th>\n",
       "      <th>to_risk_level</th>\n",
       "      <th>to_rec_level</th>\n",
       "      <th>infection_date</th>\n",
       "      <th>infection_timestamp</th>\n",
       "      <th>to_is_asymptomatic</th>\n",
       "      <th>location</th>\n",
       "      <th>generation_time</th>\n",
       "      <th>infection_day</th>\n",
       "    </tr>\n",
       "  </thead>\n",
       "  <tbody>\n",
       "    <tr>\n",
       "      <th>0</th>\n",
       "      <td>human:562</td>\n",
       "      <td>0.01</td>\n",
       "      <td>0.0</td>\n",
       "      <td>-1.0</td>\n",
       "      <td>2020-02-28 00:00:00</td>\n",
       "      <td>False</td>\n",
       "      <td>human:563</td>\n",
       "      <td>0.01</td>\n",
       "      <td>0</td>\n",
       "      <td>-1</td>\n",
       "      <td>2020-03-01</td>\n",
       "      <td>2020-03-01 20:28:00</td>\n",
       "      <td>False</td>\n",
       "      <td>household:166</td>\n",
       "      <td>2.852778</td>\n",
       "      <td>2.852778</td>\n",
       "    </tr>\n",
       "    <tr>\n",
       "      <th>1</th>\n",
       "      <td>human:675</td>\n",
       "      <td>0.01</td>\n",
       "      <td>0.0</td>\n",
       "      <td>-1.0</td>\n",
       "      <td>2020-02-28 00:00:00</td>\n",
       "      <td>False</td>\n",
       "      <td>human:797</td>\n",
       "      <td>0.01</td>\n",
       "      <td>0</td>\n",
       "      <td>-1</td>\n",
       "      <td>2020-03-02</td>\n",
       "      <td>2020-03-02 11:26:00</td>\n",
       "      <td>False</td>\n",
       "      <td>workplace:5</td>\n",
       "      <td>3.476389</td>\n",
       "      <td>3.476389</td>\n",
       "    </tr>\n",
       "    <tr>\n",
       "      <th>2</th>\n",
       "      <td>human:675</td>\n",
       "      <td>0.01</td>\n",
       "      <td>0.0</td>\n",
       "      <td>-1.0</td>\n",
       "      <td>2020-02-28 00:00:00</td>\n",
       "      <td>False</td>\n",
       "      <td>human:674</td>\n",
       "      <td>0.01</td>\n",
       "      <td>0</td>\n",
       "      <td>-1</td>\n",
       "      <td>2020-03-03</td>\n",
       "      <td>2020-03-03 20:57:00</td>\n",
       "      <td>True</td>\n",
       "      <td>household:234</td>\n",
       "      <td>4.872917</td>\n",
       "      <td>4.872917</td>\n",
       "    </tr>\n",
       "    <tr>\n",
       "      <th>3</th>\n",
       "      <td>human:797</td>\n",
       "      <td>0.01</td>\n",
       "      <td>0.0</td>\n",
       "      <td>-1.0</td>\n",
       "      <td>2020-03-02 11:26:00</td>\n",
       "      <td>False</td>\n",
       "      <td>human:855</td>\n",
       "      <td>0.01</td>\n",
       "      <td>0</td>\n",
       "      <td>-1</td>\n",
       "      <td>2020-03-04</td>\n",
       "      <td>2020-03-04 07:43:00</td>\n",
       "      <td>False</td>\n",
       "      <td>workplace:5</td>\n",
       "      <td>1.845139</td>\n",
       "      <td>5.321528</td>\n",
       "    </tr>\n",
       "    <tr>\n",
       "      <th>4</th>\n",
       "      <td>human:797</td>\n",
       "      <td>0.01</td>\n",
       "      <td>0.0</td>\n",
       "      <td>-1.0</td>\n",
       "      <td>2020-03-02 11:26:00</td>\n",
       "      <td>False</td>\n",
       "      <td>human:694</td>\n",
       "      <td>0.20</td>\n",
       "      <td>3</td>\n",
       "      <td>-1</td>\n",
       "      <td>2020-03-04</td>\n",
       "      <td>2020-03-04 08:32:00</td>\n",
       "      <td>False</td>\n",
       "      <td>workplace:5</td>\n",
       "      <td>1.879167</td>\n",
       "      <td>5.355556</td>\n",
       "    </tr>\n",
       "    <tr>\n",
       "      <th>...</th>\n",
       "      <td>...</td>\n",
       "      <td>...</td>\n",
       "      <td>...</td>\n",
       "      <td>...</td>\n",
       "      <td>...</td>\n",
       "      <td>...</td>\n",
       "      <td>...</td>\n",
       "      <td>...</td>\n",
       "      <td>...</td>\n",
       "      <td>...</td>\n",
       "      <td>...</td>\n",
       "      <td>...</td>\n",
       "      <td>...</td>\n",
       "      <td>...</td>\n",
       "      <td>...</td>\n",
       "      <td>...</td>\n",
       "    </tr>\n",
       "    <tr>\n",
       "      <th>680</th>\n",
       "      <td>human:12</td>\n",
       "      <td>0.01</td>\n",
       "      <td>0.0</td>\n",
       "      <td>-1.0</td>\n",
       "      <td>2020-03-27 09:49:00</td>\n",
       "      <td>True</td>\n",
       "      <td>human:231</td>\n",
       "      <td>0.01</td>\n",
       "      <td>0</td>\n",
       "      <td>-1</td>\n",
       "      <td>2020-03-28</td>\n",
       "      <td>2020-03-28 20:22:00</td>\n",
       "      <td>False</td>\n",
       "      <td>household:11</td>\n",
       "      <td>1.439583</td>\n",
       "      <td>29.848611</td>\n",
       "    </tr>\n",
       "    <tr>\n",
       "      <th>681</th>\n",
       "      <td>human:53</td>\n",
       "      <td>0.01</td>\n",
       "      <td>0.0</td>\n",
       "      <td>-1.0</td>\n",
       "      <td>2020-03-23 13:10:00</td>\n",
       "      <td>False</td>\n",
       "      <td>human:341</td>\n",
       "      <td>0.01</td>\n",
       "      <td>0</td>\n",
       "      <td>-1</td>\n",
       "      <td>2020-03-28</td>\n",
       "      <td>2020-03-28 21:01:00</td>\n",
       "      <td>False</td>\n",
       "      <td>household:52</td>\n",
       "      <td>5.327083</td>\n",
       "      <td>29.875694</td>\n",
       "    </tr>\n",
       "    <tr>\n",
       "      <th>682</th>\n",
       "      <td>human:505</td>\n",
       "      <td>0.01</td>\n",
       "      <td>0.0</td>\n",
       "      <td>-1.0</td>\n",
       "      <td>2020-03-25 16:10:00</td>\n",
       "      <td>False</td>\n",
       "      <td>human:160</td>\n",
       "      <td>0.01</td>\n",
       "      <td>0</td>\n",
       "      <td>-1</td>\n",
       "      <td>2020-03-28</td>\n",
       "      <td>2020-03-28 22:14:00</td>\n",
       "      <td>False</td>\n",
       "      <td>household:134</td>\n",
       "      <td>3.252778</td>\n",
       "      <td>29.926389</td>\n",
       "    </tr>\n",
       "    <tr>\n",
       "      <th>683</th>\n",
       "      <td>human:247</td>\n",
       "      <td>0.01</td>\n",
       "      <td>0.0</td>\n",
       "      <td>-1.0</td>\n",
       "      <td>2020-03-27 07:54:00</td>\n",
       "      <td>True</td>\n",
       "      <td>human:248</td>\n",
       "      <td>0.01</td>\n",
       "      <td>0</td>\n",
       "      <td>-1</td>\n",
       "      <td>2020-03-28</td>\n",
       "      <td>2020-03-28 22:22:00</td>\n",
       "      <td>False</td>\n",
       "      <td>household:9</td>\n",
       "      <td>1.602778</td>\n",
       "      <td>29.931944</td>\n",
       "    </tr>\n",
       "    <tr>\n",
       "      <th>684</th>\n",
       "      <td>human:284</td>\n",
       "      <td>0.01</td>\n",
       "      <td>0.0</td>\n",
       "      <td>-1.0</td>\n",
       "      <td>2020-03-24 13:11:00</td>\n",
       "      <td>False</td>\n",
       "      <td>human:283</td>\n",
       "      <td>0.01</td>\n",
       "      <td>0</td>\n",
       "      <td>-1</td>\n",
       "      <td>2020-03-28</td>\n",
       "      <td>2020-03-28 23:25:00</td>\n",
       "      <td>True</td>\n",
       "      <td>household:28</td>\n",
       "      <td>4.426389</td>\n",
       "      <td>29.975694</td>\n",
       "    </tr>\n",
       "  </tbody>\n",
       "</table>\n",
       "<p>685 rows × 16 columns</p>\n",
       "</div>"
      ],
      "text/plain": [
       "          from  from_risk  from_risk_level  from_rec_level  \\\n",
       "0    human:562       0.01              0.0            -1.0   \n",
       "1    human:675       0.01              0.0            -1.0   \n",
       "2    human:675       0.01              0.0            -1.0   \n",
       "3    human:797       0.01              0.0            -1.0   \n",
       "4    human:797       0.01              0.0            -1.0   \n",
       "..         ...        ...              ...             ...   \n",
       "680   human:12       0.01              0.0            -1.0   \n",
       "681   human:53       0.01              0.0            -1.0   \n",
       "682  human:505       0.01              0.0            -1.0   \n",
       "683  human:247       0.01              0.0            -1.0   \n",
       "684  human:284       0.01              0.0            -1.0   \n",
       "\n",
       "    from_infection_timestamp from_is_asymptomatic         to  to_risk  \\\n",
       "0        2020-02-28 00:00:00                False  human:563     0.01   \n",
       "1        2020-02-28 00:00:00                False  human:797     0.01   \n",
       "2        2020-02-28 00:00:00                False  human:674     0.01   \n",
       "3        2020-03-02 11:26:00                False  human:855     0.01   \n",
       "4        2020-03-02 11:26:00                False  human:694     0.20   \n",
       "..                       ...                  ...        ...      ...   \n",
       "680      2020-03-27 09:49:00                 True  human:231     0.01   \n",
       "681      2020-03-23 13:10:00                False  human:341     0.01   \n",
       "682      2020-03-25 16:10:00                False  human:160     0.01   \n",
       "683      2020-03-27 07:54:00                 True  human:248     0.01   \n",
       "684      2020-03-24 13:11:00                False  human:283     0.01   \n",
       "\n",
       "     to_risk_level  to_rec_level infection_date infection_timestamp  \\\n",
       "0                0            -1     2020-03-01 2020-03-01 20:28:00   \n",
       "1                0            -1     2020-03-02 2020-03-02 11:26:00   \n",
       "2                0            -1     2020-03-03 2020-03-03 20:57:00   \n",
       "3                0            -1     2020-03-04 2020-03-04 07:43:00   \n",
       "4                3            -1     2020-03-04 2020-03-04 08:32:00   \n",
       "..             ...           ...            ...                 ...   \n",
       "680              0            -1     2020-03-28 2020-03-28 20:22:00   \n",
       "681              0            -1     2020-03-28 2020-03-28 21:01:00   \n",
       "682              0            -1     2020-03-28 2020-03-28 22:14:00   \n",
       "683              0            -1     2020-03-28 2020-03-28 22:22:00   \n",
       "684              0            -1     2020-03-28 2020-03-28 23:25:00   \n",
       "\n",
       "     to_is_asymptomatic       location  generation_time  infection_day  \n",
       "0                 False  household:166         2.852778       2.852778  \n",
       "1                 False    workplace:5         3.476389       3.476389  \n",
       "2                  True  household:234         4.872917       4.872917  \n",
       "3                 False    workplace:5         1.845139       5.321528  \n",
       "4                 False    workplace:5         1.879167       5.355556  \n",
       "..                  ...            ...              ...            ...  \n",
       "680               False   household:11         1.439583      29.848611  \n",
       "681               False   household:52         5.327083      29.875694  \n",
       "682               False  household:134         3.252778      29.926389  \n",
       "683               False    household:9         1.602778      29.931944  \n",
       "684                True   household:28         4.426389      29.975694  \n",
       "\n",
       "[685 rows x 16 columns]"
      ]
     },
     "execution_count": 20,
     "metadata": {},
     "output_type": "execute_result"
    }
   ],
   "source": [
    "df"
   ]
  },
  {
   "cell_type": "code",
   "execution_count": 21,
   "metadata": {},
   "outputs": [],
   "source": [
    "df_human = df[df['from'].isnull()==False]"
   ]
  },
  {
   "cell_type": "code",
   "execution_count": 22,
   "metadata": {},
   "outputs": [
    {
     "data": {
      "text/plain": [
       "648"
      ]
     },
     "execution_count": 22,
     "metadata": {},
     "output_type": "execute_result"
    }
   ],
   "source": [
    "len(df_human)"
   ]
  },
  {
   "cell_type": "code",
   "execution_count": 23,
   "metadata": {},
   "outputs": [
    {
     "data": {
      "text/plain": [
       "4.552877443415638"
      ]
     },
     "execution_count": 23,
     "metadata": {},
     "output_type": "execute_result"
    }
   ],
   "source": [
    "df_human['generation_time'].mean()"
   ]
  },
  {
   "cell_type": "code",
   "execution_count": 24,
   "metadata": {},
   "outputs": [
    {
     "data": {
      "text/plain": [
       "2.398564086689553"
      ]
     },
     "execution_count": 24,
     "metadata": {},
     "output_type": "execute_result"
    }
   ],
   "source": [
    "df_human['generation_time'].std()"
   ]
  },
  {
   "cell_type": "code",
   "execution_count": 25,
   "metadata": {},
   "outputs": [
    {
     "data": {
      "text/plain": [
       "Text(0, 0.5, 'count')"
      ]
     },
     "execution_count": 25,
     "metadata": {},
     "output_type": "execute_result"
    },
    {
     "data": {
      "image/png": "[encoded data removed]",
      "text/plain": [
       "<Figure size 432x288 with 1 Axes>"
      ]
     },
     "metadata": {
      "needs_background": "light"
     },
     "output_type": "display_data"
    }
   ],
   "source": [
    "plt.hist(df_human['generation_time'], bins=20)\n",
    "plt.xlabel('generation time')\n",
    "plt.ylabel('count')"
   ]
  },
  {
   "cell_type": "code",
   "execution_count": 26,
   "metadata": {},
   "outputs": [],
   "source": [
    "inf_days = df_human['infection_day']"
   ]
  },
  {
   "cell_type": "code",
   "execution_count": 27,
   "metadata": {},
   "outputs": [],
   "source": [
    "cases_per_day = np.histogram(inf_days, bins=np.arange(31))[0]"
   ]
  },
  {
   "cell_type": "code",
   "execution_count": 28,
   "metadata": {},
   "outputs": [
    {
     "data": {
      "text/plain": [
       "<matplotlib.legend.Legend at 0x7fa196157e80>"
      ]
     },
     "execution_count": 28,
     "metadata": {},
     "output_type": "execute_result"
    },
    {
     "data": {
      "image/png": "[encoded data removed]",
      "text/plain": [
       "<Figure size 432x288 with 1 Axes>"
      ]
     },
     "metadata": {
      "needs_background": "light"
     },
     "output_type": "display_data"
    }
   ],
   "source": [
    "plt.plot(np.arange(30),data['cases_per_day'], label='ref')\n",
    "plt.plot(np.arange(30),cases_per_day, label='without_env')\n",
    "plt.legend()"
   ]
  },
  {
   "cell_type": "code",
   "execution_count": 29,
   "metadata": {},
   "outputs": [],
   "source": [
    "t_start = datetime.datetime(2020, 2, 28, 0, 0)\n",
    "t_mid = t_start+datetime.timedelta(days=20)"
   ]
  },
  {
   "cell_type": "code",
   "execution_count": 30,
   "metadata": {},
   "outputs": [],
   "source": [
    "df_after_mid = df[df['from_infection_timestamp']>=t_mid]"
   ]
  },
  {
   "cell_type": "code",
   "execution_count": 31,
   "metadata": {},
   "outputs": [],
   "source": [
    "gt = df_after_mid[df_after_mid.notna()]['generation_time']"
   ]
  },
  {
   "cell_type": "code",
   "execution_count": 32,
   "metadata": {},
   "outputs": [
    {
     "data": {
      "text/plain": [
       "247"
      ]
     },
     "execution_count": 32,
     "metadata": {},
     "output_type": "execute_result"
    }
   ],
   "source": [
    "len(gt)"
   ]
  },
  {
   "cell_type": "code",
   "execution_count": 33,
   "metadata": {},
   "outputs": [
    {
     "data": {
      "text/plain": [
       "3.8530139451192085"
      ]
     },
     "execution_count": 33,
     "metadata": {},
     "output_type": "execute_result"
    }
   ],
   "source": [
    "gt.mean()"
   ]
  },
  {
   "cell_type": "code",
   "execution_count": 34,
   "metadata": {},
   "outputs": [
    {
     "data": {
      "text/plain": [
       "1.5969104659178612"
      ]
     },
     "execution_count": 34,
     "metadata": {},
     "output_type": "execute_result"
    }
   ],
   "source": [
    "gt.std()"
   ]
  },
  {
   "cell_type": "markdown",
   "metadata": {},
   "source": [
    "### \"Fit\" the gamma, based on stats"
   ]
  },
  {
   "cell_type": "code",
   "execution_count": 35,
   "metadata": {},
   "outputs": [],
   "source": [
    "import scipy.stats"
   ]
  },
  {
   "cell_type": "code",
   "execution_count": 36,
   "metadata": {},
   "outputs": [],
   "source": [
    "gamma = lambda x, a, b: scipy.stats.gamma.pdf(x,a, loc=1, scale=b)"
   ]
  },
  {
   "cell_type": "code",
   "execution_count": 37,
   "metadata": {},
   "outputs": [],
   "source": [
    "mu = np.mean(np.array(gt)-1)"
   ]
  },
  {
   "cell_type": "code",
   "execution_count": 38,
   "metadata": {},
   "outputs": [],
   "source": [
    "sigma = np.std(np.array(gt)-1)"
   ]
  },
  {
   "cell_type": "code",
   "execution_count": 39,
   "metadata": {},
   "outputs": [],
   "source": [
    "scale = sigma**2/mu"
   ]
  },
  {
   "cell_type": "code",
   "execution_count": 40,
   "metadata": {},
   "outputs": [],
   "source": [
    "k = mu**2/sigma**2"
   ]
  },
  {
   "cell_type": "code",
   "execution_count": 41,
   "metadata": {},
   "outputs": [
    {
     "data": {
      "text/plain": [
       "[<matplotlib.lines.Line2D at 0x7fa196018460>]"
      ]
     },
     "execution_count": 41,
     "metadata": {},
     "output_type": "execute_result"
    },
    {
     "data": {
      "image/png": "[encoded data removed]",
      "text/plain": [
       "<Figure size 432x288 with 1 Axes>"
      ]
     },
     "metadata": {
      "needs_background": "light"
     },
     "output_type": "display_data"
    }
   ],
   "source": [
    "plt.hist(gt, bins=np.arange(0,20))\n",
    "plt.xticks(range(20))\n",
    "x = np.arange(0,20,0.1)\n",
    "plt.plot(x ,len(gt)*gamma(x, k, scale))"
   ]
  },
  {
   "cell_type": "markdown",
   "metadata": {},
   "source": [
    "## R estimation comparison EpiEstim vs PlotRt"
   ]
  },
  {
   "cell_type": "code",
   "execution_count": 42,
   "metadata": {},
   "outputs": [],
   "source": [
    "import rpy2\n",
    "import rpy2.robjects.packages as rpackages\n",
    "import rpy2.robjects as robj"
   ]
  },
  {
   "cell_type": "code",
   "execution_count": 43,
   "metadata": {},
   "outputs": [],
   "source": [
    "epiestim = rpackages.importr('EpiEstim')"
   ]
  },
  {
   "cell_type": "code",
   "execution_count": 44,
   "metadata": {},
   "outputs": [],
   "source": [
    "from rpy2.robjects import numpy2ri\n",
    "numpy2ri.activate()"
   ]
  },
  {
   "cell_type": "code",
   "execution_count": 45,
   "metadata": {},
   "outputs": [],
   "source": [
    "R_cases_per_day = robj.IntVector(cases_per_day)"
   ]
  },
  {
   "cell_type": "code",
   "execution_count": 46,
   "metadata": {},
   "outputs": [
    {
     "data": {
      "text/html": [
       "\n",
       "        <span>IntVector with 30 elements.</span>\n",
       "        <table>\n",
       "        <tbody>\n",
       "          <tr>\n",
       "          \n",
       "            <td>\n",
       "            0\n",
       "            </td>\n",
       "          \n",
       "            <td>\n",
       "            0\n",
       "            </td>\n",
       "          \n",
       "            <td>\n",
       "            1\n",
       "            </td>\n",
       "          \n",
       "            <td>\n",
       "            ...\n",
       "            </td>\n",
       "          \n",
       "            <td>\n",
       "            65\n",
       "            </td>\n",
       "          \n",
       "            <td>\n",
       "            47\n",
       "            </td>\n",
       "          \n",
       "            <td>\n",
       "            26\n",
       "            </td>\n",
       "          \n",
       "          </tr>\n",
       "        </tbody>\n",
       "        </table>\n",
       "        "
      ],
      "text/plain": [
       "R object with classes: ('RTYPES.INTSXP',) mapped to:\n",
       "[0, 0, 1, 1, ..., 38, 65, 47, 26]"
      ]
     },
     "execution_count": 46,
     "metadata": {},
     "output_type": "execute_result"
    }
   ],
   "source": [
    "R_cases_per_day"
   ]
  },
  {
   "cell_type": "code",
   "execution_count": 47,
   "metadata": {},
   "outputs": [
    {
     "data": {
      "text/plain": [
       "30"
      ]
     },
     "execution_count": 47,
     "metadata": {},
     "output_type": "execute_result"
    }
   ],
   "source": [
    "len(R_cases_per_day)"
   ]
  },
  {
   "cell_type": "code",
   "execution_count": 48,
   "metadata": {},
   "outputs": [
    {
     "name": "stderr",
     "output_type": "stream",
     "text": [
      "R[write to console]: Default config will estimate R on weekly sliding windows.\n",
      "    To change this change the t_start and t_end arguments. \n",
      "\n"
     ]
    }
   ],
   "source": [
    "res = epiestim.estimate_R(R_cases_per_day, method='parametric_si', config=epiestim.make_config(mean_si = si.mean(), std_si = si.std()))"
   ]
  },
  {
   "cell_type": "code",
   "execution_count": 50,
   "metadata": {},
   "outputs": [],
   "source": [
    "tmp = epiestim.plot_estimate_R(res, what='all')"
   ]
  },
  {
   "cell_type": "markdown",
   "metadata": {},
   "source": [
    "![title](img/EpiEstim_Unmitigated_1000ppl.png)"
   ]
  },
  {
   "cell_type": "code",
   "execution_count": 51,
   "metadata": {},
   "outputs": [
    {
     "data": {
      "text/plain": [
       "array([3.34176404, 2.45698442, 1.96985609, 2.01744682, 2.2267749 ,\n",
       "       2.34527286, 2.22505821, 2.55830561, 2.16208582, 2.00118212,\n",
       "       2.02746941, 2.27151042, 2.43818663, 2.45617652, 2.17583511,\n",
       "       1.93036041, 1.64020339, 1.56150457, 1.49047679, 1.28485038,\n",
       "       1.21114153, 1.14192097, 1.05856994])"
      ]
     },
     "execution_count": 51,
     "metadata": {},
     "output_type": "execute_result"
    }
   ],
   "source": [
    "res[0]['Mean(R)']"
   ]
  },
  {
   "cell_type": "code",
   "execution_count": 52,
   "metadata": {},
   "outputs": [
    {
     "data": {
      "text/plain": [
       "array([1.92825703, 1.48541161, 1.21426269, 1.32110405, 1.54824326,\n",
       "       1.7074651 , 1.66644612, 2.01854098, 1.72084235, 1.62466452,\n",
       "       1.683662  , 1.93884236, 2.12622072, 2.17765208, 1.94485634,\n",
       "       1.73739272, 1.47954022, 1.41693856, 1.35793894, 1.1686784 ,\n",
       "       1.10344305, 1.04052866, 0.96315094])"
      ]
     },
     "execution_count": 52,
     "metadata": {},
     "output_type": "execute_result"
    }
   ],
   "source": [
    "res[0]['Quantile.0.05(R)']"
   ]
  },
  {
   "cell_type": "code",
   "execution_count": 53,
   "metadata": {},
   "outputs": [
    {
     "data": {
      "text/plain": [
       "array([5.07043471, 3.62731086, 2.87421517, 2.83416985, 3.00636018,\n",
       "       3.0662706 , 2.85015231, 3.15090636, 2.64495786, 2.41018021,\n",
       "       2.39775788, 2.62605633, 2.76791745, 2.74866089, 2.41761476,\n",
       "       2.13180075, 1.80777243, 1.71192919, 1.6281649 , 1.40561565,\n",
       "       1.32302505, 1.24724716, 1.15774964])"
      ]
     },
     "execution_count": 53,
     "metadata": {},
     "output_type": "execute_result"
    }
   ],
   "source": [
    "res[0]['Quantile.0.95(R)']"
   ]
  },
  {
   "cell_type": "markdown",
   "metadata": {},
   "source": [
    "## Discrete serial interval distribution"
   ]
  },
  {
   "cell_type": "code",
   "execution_count": 54,
   "metadata": {},
   "outputs": [
    {
     "data": {
      "text/plain": [
       "[<matplotlib.lines.Line2D at 0x7fa195cd3a00>]"
      ]
     },
     "execution_count": 54,
     "metadata": {},
     "output_type": "execute_result"
    },
    {
     "data": {
      "image/png": "[encoded data removed]",
      "text/plain": [
       "<Figure size 432x288 with 1 Axes>"
      ]
     },
     "metadata": {
      "needs_background": "light"
     },
     "output_type": "display_data"
    }
   ],
   "source": [
    "plt.plot(res[2])"
   ]
  },
  {
   "cell_type": "code",
   "execution_count": 55,
   "metadata": {},
   "outputs": [
    {
     "data": {
      "text/plain": [
       "0.9999992419541766"
      ]
     },
     "execution_count": 55,
     "metadata": {},
     "output_type": "execute_result"
    }
   ],
   "source": [
    "sum(res[2])"
   ]
  },
  {
   "cell_type": "code",
   "execution_count": 56,
   "metadata": {},
   "outputs": [],
   "source": [
    "plotrt = PlotRt(R_T_MAX=4, sigma=0.25, GAMMA=1.0/si.mean())\n",
    "most_likely, _ = plotrt.compute(cases_per_day, r0_estimate=2.5)"
   ]
  },
  {
   "cell_type": "markdown",
   "metadata": {},
   "source": [
    "## R estimate by counting secondary infections\n",
    "Note: is a slight underestimation because a small fraction of 'from' humans may still be infectious at end of simulation "
   ]
  },
  {
   "cell_type": "code",
   "execution_count": 62,
   "metadata": {},
   "outputs": [],
   "source": [
    "R_by_count = df_after_mid.groupby('from')['to'].count().mean()"
   ]
  },
  {
   "cell_type": "code",
   "execution_count": 61,
   "metadata": {},
   "outputs": [
    {
     "data": {
      "text/plain": [
       "2.417910447761194"
      ]
     },
     "execution_count": 61,
     "metadata": {},
     "output_type": "execute_result"
    }
   ],
   "source": [
    "df.groupby('from')['to'].count().mean()"
   ]
  },
  {
   "cell_type": "code",
   "execution_count": 65,
   "metadata": {},
   "outputs": [],
   "source": [
    "t = np.arange(30)"
   ]
  },
  {
   "cell_type": "code",
   "execution_count": 67,
   "metadata": {},
   "outputs": [
    {
     "data": {
      "text/plain": [
       "<matplotlib.legend.Legend at 0x7fa195b2e0d0>"
      ]
     },
     "execution_count": 67,
     "metadata": {},
     "output_type": "execute_result"
    },
    {
     "data": {
      "image/png": "[encoded data removed]",
      "text/plain": [
       "<Figure size 432x288 with 1 Axes>"
      ]
     },
     "metadata": {
      "needs_background": "light"
     },
     "output_type": "display_data"
    }
   ],
   "source": [
    "plt.plot(t, most_likely, label='PlotRt')\n",
    "plt.plot(t[7:],res[0]['Mean(R)'], label='EpiEstim')\n",
    "plt.plot(t[20:], np.ones_like(t[20:])*R_by_count, 'r--', label='R by counting')\n",
    "plt.legend()"
   ]
  },
  {
   "cell_type": "markdown",
   "metadata": {},
   "source": [
    "## R=2 comparison EpiEstim vs PlotRt"
   ]
  },
  {
   "cell_type": "code",
   "execution_count": 68,
   "metadata": {},
   "outputs": [],
   "source": [
    "import synthRdata"
   ]
  },
  {
   "cell_type": "code",
   "execution_count": 69,
   "metadata": {},
   "outputs": [],
   "source": [
    "t = np.arange(50.)"
   ]
  },
  {
   "cell_type": "code",
   "execution_count": 70,
   "metadata": {},
   "outputs": [],
   "source": [
    "Rt = np.ones_like(t)*2.0"
   ]
  },
  {
   "cell_type": "code",
   "execution_count": 71,
   "metadata": {},
   "outputs": [],
   "source": [
    "si_dist = np.array(res[2])"
   ]
  },
  {
   "cell_type": "code",
   "execution_count": 72,
   "metadata": {},
   "outputs": [
    {
     "data": {
      "text/plain": [
       "4.023783518995574"
      ]
     },
     "execution_count": 72,
     "metadata": {},
     "output_type": "execute_result"
    }
   ],
   "source": [
    "sum(si_dist*np.arange(31))"
   ]
  },
  {
   "cell_type": "code",
   "execution_count": 73,
   "metadata": {},
   "outputs": [
    {
     "data": {
      "text/plain": [
       "4.023807299451919"
      ]
     },
     "execution_count": 73,
     "metadata": {},
     "output_type": "execute_result"
    }
   ],
   "source": [
    "si.mean()"
   ]
  },
  {
   "cell_type": "code",
   "execution_count": 74,
   "metadata": {},
   "outputs": [
    {
     "data": {
      "text/plain": [
       "array([0.00000000e+00, 6.84629308e-02, 2.19558679e-01, 2.16776288e-01,\n",
       "       1.66818274e-01, 1.16949401e-01, 7.80164979e-02, 5.04576194e-02,\n",
       "       3.19496972e-02, 1.99210387e-02, 1.22762436e-02, 7.49575510e-03,\n",
       "       4.54291119e-03, 2.73646886e-03, 1.63988963e-03, 9.78453914e-04,\n",
       "       5.81610001e-04, 3.44589175e-04, 2.03574444e-04, 1.19961079e-04,\n",
       "       7.05298741e-05, 4.13831037e-05, 2.42368862e-05, 1.41712728e-05,\n",
       "       8.27339276e-06, 4.82344551e-06, 2.80853182e-06, 1.63340179e-06,\n",
       "       9.48936006e-07, 5.50738389e-07, 0.00000000e+00])"
      ]
     },
     "execution_count": 74,
     "metadata": {},
     "output_type": "execute_result"
    }
   ],
   "source": [
    "si_dist"
   ]
  },
  {
   "cell_type": "code",
   "execution_count": 75,
   "metadata": {},
   "outputs": [],
   "source": [
    "cases = synthRdata.generate_synthetic_cases_per_day(t, Rt, 2, si_dist)"
   ]
  },
  {
   "cell_type": "code",
   "execution_count": 76,
   "metadata": {},
   "outputs": [
    {
     "data": {
      "text/plain": [
       "array([  2.,   0.,   0.,   0.,   3.,   0.,   1.,   2.,   2.,   1.,   3.,\n",
       "         1.,   1.,   1.,   0.,   3.,   3.,   1.,   5.,   3.,   2.,   7.,\n",
       "         6.,   9.,   6.,  14.,  16.,  15.,  16.,  25.,  27.,  26.,  31.,\n",
       "        45.,  44.,  50.,  58.,  59.,  82.,  79., 103., 125., 142., 179.,\n",
       "       180., 239., 254., 304., 355., 420.])"
      ]
     },
     "execution_count": 76,
     "metadata": {},
     "output_type": "execute_result"
    }
   ],
   "source": [
    "cases"
   ]
  },
  {
   "cell_type": "code",
   "execution_count": 77,
   "metadata": {},
   "outputs": [
    {
     "data": {
      "text/plain": [
       "[<matplotlib.lines.Line2D at 0x7fa195a8f640>]"
      ]
     },
     "execution_count": 77,
     "metadata": {},
     "output_type": "execute_result"
    },
    {
     "data": {
      "image/png": "[encoded data removed]",
      "text/plain": [
       "<Figure size 432x288 with 1 Axes>"
      ]
     },
     "metadata": {
      "needs_background": "light"
     },
     "output_type": "display_data"
    }
   ],
   "source": [
    "plt.plot(t, cases)"
   ]
  },
  {
   "cell_type": "code",
   "execution_count": 78,
   "metadata": {},
   "outputs": [],
   "source": [
    "R_cases_per_day = robj.IntVector(cases)"
   ]
  },
  {
   "cell_type": "code",
   "execution_count": 79,
   "metadata": {},
   "outputs": [
    {
     "data": {
      "text/html": [
       "\n",
       "        <span>IntVector with 50 elements.</span>\n",
       "        <table>\n",
       "        <tbody>\n",
       "          <tr>\n",
       "          \n",
       "            <td>\n",
       "            2\n",
       "            </td>\n",
       "          \n",
       "            <td>\n",
       "            0\n",
       "            </td>\n",
       "          \n",
       "            <td>\n",
       "            0\n",
       "            </td>\n",
       "          \n",
       "            <td>\n",
       "            ...\n",
       "            </td>\n",
       "          \n",
       "            <td>\n",
       "            304\n",
       "            </td>\n",
       "          \n",
       "            <td>\n",
       "            355\n",
       "            </td>\n",
       "          \n",
       "            <td>\n",
       "            420\n",
       "            </td>\n",
       "          \n",
       "          </tr>\n",
       "        </tbody>\n",
       "        </table>\n",
       "        "
      ],
      "text/plain": [
       "R object with classes: ('RTYPES.INTSXP',) mapped to:\n",
       "[2, 0, 0, 0, ..., 254, 304, 355, 420]"
      ]
     },
     "execution_count": 79,
     "metadata": {},
     "output_type": "execute_result"
    }
   ],
   "source": [
    "R_cases_per_day"
   ]
  },
  {
   "cell_type": "code",
   "execution_count": 80,
   "metadata": {},
   "outputs": [
    {
     "data": {
      "text/plain": [
       "4.023807299451919"
      ]
     },
     "execution_count": 80,
     "metadata": {},
     "output_type": "execute_result"
    }
   ],
   "source": [
    "si.mean()"
   ]
  },
  {
   "cell_type": "code",
   "execution_count": 81,
   "metadata": {},
   "outputs": [
    {
     "name": "stderr",
     "output_type": "stream",
     "text": [
      "R[write to console]: Default config will estimate R on weekly sliding windows.\n",
      "    To change this change the t_start and t_end arguments. \n",
      "\n"
     ]
    }
   ],
   "source": [
    "res = epiestim.estimate_R(R_cases_per_day, method='parametric_si', config=epiestim.make_config(mean_si = si.mean(), std_si = si.std()))"
   ]
  },
  {
   "cell_type": "code",
   "execution_count": 82,
   "metadata": {},
   "outputs": [
    {
     "data": {
      "text/plain": [
       "array([1.93533975, 2.04505999, 1.94354343, 2.13877636, 1.52353396,\n",
       "       1.41590078, 1.29432311, 1.00981981, 1.07599289, 1.27941982,\n",
       "       1.06959537, 1.41550994, 1.56284546, 1.52506189, 1.91061161,\n",
       "       1.89044811, 1.94066675, 1.87641287, 1.94221751, 2.07907888,\n",
       "       2.09201195, 1.9165839 , 1.93934869, 1.90831976, 1.86059983,\n",
       "       1.75303342, 1.76415535, 1.75069125, 1.74007921, 1.69427632,\n",
       "       1.62809089, 1.67043345, 1.65142099, 1.63991506, 1.6776036 ,\n",
       "       1.70736553, 1.75865547, 1.75515068, 1.77065548, 1.77105033,\n",
       "       1.76448456, 1.75410192, 1.75592753])"
      ]
     },
     "execution_count": 82,
     "metadata": {},
     "output_type": "execute_result"
    }
   ],
   "source": [
    "res[0]['Mean(R)']"
   ]
  },
  {
   "cell_type": "code",
   "execution_count": 83,
   "metadata": {},
   "outputs": [],
   "source": [
    "plotrt = PlotRt(R_T_MAX=4, sigma=0.25, GAMMA=1.0/si.mean())\n",
    "most_likely, _ = plotrt.compute(cases, r0_estimate=2.5)"
   ]
  },
  {
   "cell_type": "code",
   "execution_count": 84,
   "metadata": {},
   "outputs": [
    {
     "data": {
      "text/plain": [
       "(50,)"
      ]
     },
     "execution_count": 84,
     "metadata": {},
     "output_type": "execute_result"
    }
   ],
   "source": [
    "most_likely.shape"
   ]
  },
  {
   "cell_type": "code",
   "execution_count": 85,
   "metadata": {},
   "outputs": [
    {
     "data": {
      "text/plain": [
       "<matplotlib.legend.Legend at 0x7fa195a600d0>"
      ]
     },
     "execution_count": 85,
     "metadata": {},
     "output_type": "execute_result"
    },
    {
     "data": {
      "image/png": "[encoded data removed]",
      "text/plain": [
       "<Figure size 432x288 with 1 Axes>"
      ]
     },
     "metadata": {
      "needs_background": "light"
     },
     "output_type": "display_data"
    }
   ],
   "source": [
    "plt.plot(t, most_likely, label='PlotRt')\n",
    "plt.plot(t[7:], res[0]['Mean(R)'], label='EpiEstim')\n",
    "plt.plot(t, np.ones_like(t)*2.0, 'r--', label='truth')\n",
    "plt.legend()"
   ]
  },
  {
   "cell_type": "markdown",
   "metadata": {},
   "source": [
    "## R=0.9 comparison EpiEstim vs PlotRt"
   ]
  },
  {
   "cell_type": "code",
   "execution_count": 86,
   "metadata": {},
   "outputs": [],
   "source": [
    "Rt = np.ones_like(t)*0.9"
   ]
  },
  {
   "cell_type": "code",
   "execution_count": 87,
   "metadata": {},
   "outputs": [],
   "source": [
    "cases = synthRdata.generate_synthetic_cases_per_day(t, Rt, 2000, si_dist)"
   ]
  },
  {
   "cell_type": "code",
   "execution_count": 88,
   "metadata": {},
   "outputs": [
    {
     "data": {
      "text/plain": [
       "[<matplotlib.lines.Line2D at 0x7fa1959862b0>]"
      ]
     },
     "execution_count": 88,
     "metadata": {},
     "output_type": "execute_result"
    },
    {
     "data": {
      "image/png": "[encoded data removed]",
      "text/plain": [
       "<Figure size 432x288 with 1 Axes>"
      ]
     },
     "metadata": {
      "needs_background": "light"
     },
     "output_type": "display_data"
    }
   ],
   "source": [
    "plt.plot(cases[3:])"
   ]
  },
  {
   "cell_type": "code",
   "execution_count": 89,
   "metadata": {},
   "outputs": [],
   "source": [
    "R_cases_per_day = robj.IntVector(cases)"
   ]
  },
  {
   "cell_type": "code",
   "execution_count": 90,
   "metadata": {},
   "outputs": [
    {
     "name": "stderr",
     "output_type": "stream",
     "text": [
      "R[write to console]: Default config will estimate R on weekly sliding windows.\n",
      "    To change this change the t_start and t_end arguments. \n",
      "\n"
     ]
    }
   ],
   "source": [
    "res = epiestim.estimate_R(R_cases_per_day[3:], method='parametric_si', config=epiestim.make_config(mean_si = si.mean(), std_si = si.std()))"
   ]
  },
  {
   "cell_type": "code",
   "execution_count": 91,
   "metadata": {},
   "outputs": [
    {
     "data": {
      "text/plain": [
       "(40,)"
      ]
     },
     "execution_count": 91,
     "metadata": {},
     "output_type": "execute_result"
    }
   ],
   "source": [
    "res[0]['Mean(R)'].shape"
   ]
  },
  {
   "cell_type": "code",
   "execution_count": 92,
   "metadata": {},
   "outputs": [
    {
     "data": {
      "text/plain": [
       "array([2000.,    0.,  121.,  391.,  415.,  350.,  331.,  356.,  320.,\n",
       "        346.,  323.,  292.,  302.,  277.,  277.,  295.,  281.,  260.,\n",
       "        257.,  237.,  247.,  247.,  234.,  223.,  241.,  201.,  225.,\n",
       "        237.,  218.,  196.,  211.,  208.,  210.,  204.,  195.,  204.,\n",
       "        182.,  172.,  206.,  179.,  150.,  173.,  174.,  155.,  166.,\n",
       "        162.,  146.,  147.,  141.,  143.])"
      ]
     },
     "execution_count": 92,
     "metadata": {},
     "output_type": "execute_result"
    }
   ],
   "source": [
    "cases"
   ]
  },
  {
   "cell_type": "code",
   "execution_count": 93,
   "metadata": {},
   "outputs": [],
   "source": [
    "plotrt = PlotRt(R_T_MAX=4, sigma=0.25, GAMMA=1.0/si.mean())\n",
    "most_likely, _ = plotrt.compute(cases[3:], r0_estimate=2.0)"
   ]
  },
  {
   "cell_type": "code",
   "execution_count": 94,
   "metadata": {},
   "outputs": [
    {
     "data": {
      "text/plain": [
       "(47,)"
      ]
     },
     "execution_count": 94,
     "metadata": {},
     "output_type": "execute_result"
    }
   ],
   "source": [
    "most_likely.shape"
   ]
  },
  {
   "cell_type": "code",
   "execution_count": 95,
   "metadata": {},
   "outputs": [
    {
     "data": {
      "text/plain": [
       "<matplotlib.legend.Legend at 0x7fa195946430>"
      ]
     },
     "execution_count": 95,
     "metadata": {},
     "output_type": "execute_result"
    },
    {
     "data": {
      "image/png": "[encoded data removed]",
      "text/plain": [
       "<Figure size 432x288 with 1 Axes>"
      ]
     },
     "metadata": {
      "needs_background": "light"
     },
     "output_type": "display_data"
    }
   ],
   "source": [
    "plt.plot(t[3:], most_likely, label='PlotRt')\n",
    "plt.plot(t[10:], res[0]['Mean(R)'], label='EpiEstim')\n",
    "plt.plot(t, np.ones_like(t)*0.9, 'r--', label='truth')\n",
    "plt.legend()"
   ]
  },
  {
   "cell_type": "markdown",
   "metadata": {},
   "source": [
    "## R=1 comparison EpiEstim vs PlotRt"
   ]
  },
  {
   "cell_type": "code",
   "execution_count": 96,
   "metadata": {},
   "outputs": [],
   "source": [
    "Rt = np.ones_like(t)"
   ]
  },
  {
   "cell_type": "code",
   "execution_count": 97,
   "metadata": {},
   "outputs": [],
   "source": [
    "cases = synthRdata.generate_synthetic_cases_per_day(t, Rt, 200, si_dist)"
   ]
  },
  {
   "cell_type": "code",
   "execution_count": 98,
   "metadata": {},
   "outputs": [
    {
     "data": {
      "text/plain": [
       "[<matplotlib.lines.Line2D at 0x7fa195881b80>]"
      ]
     },
     "execution_count": 98,
     "metadata": {},
     "output_type": "execute_result"
    },
    {
     "data": {
      "image/png": "[encoded data removed]",
      "text/plain": [
       "<Figure size 432x288 with 1 Axes>"
      ]
     },
     "metadata": {
      "needs_background": "light"
     },
     "output_type": "display_data"
    }
   ],
   "source": [
    "plt.plot(t[3:], cases[3:])"
   ]
  },
  {
   "cell_type": "code",
   "execution_count": 99,
   "metadata": {},
   "outputs": [],
   "source": [
    "R_cases_per_day = robj.IntVector(cases)"
   ]
  },
  {
   "cell_type": "code",
   "execution_count": 100,
   "metadata": {},
   "outputs": [
    {
     "name": "stderr",
     "output_type": "stream",
     "text": [
      "R[write to console]: Default config will estimate R on weekly sliding windows.\n",
      "    To change this change the t_start and t_end arguments. \n",
      "\n"
     ]
    }
   ],
   "source": [
    "res = epiestim.estimate_R(R_cases_per_day[3:], method='parametric_si', config=epiestim.make_config(mean_si = si.mean(), std_si = si.std()))"
   ]
  },
  {
   "cell_type": "code",
   "execution_count": 101,
   "metadata": {},
   "outputs": [],
   "source": [
    "plotrt = PlotRt(R_T_MAX=4, sigma=0.25, GAMMA=1.0/si.mean())\n",
    "most_likely, _ = plotrt.compute(cases[3:], r0_estimate=2.0)"
   ]
  },
  {
   "cell_type": "code",
   "execution_count": 102,
   "metadata": {},
   "outputs": [
    {
     "data": {
      "text/plain": [
       "<matplotlib.legend.Legend at 0x7fa195846a90>"
      ]
     },
     "execution_count": 102,
     "metadata": {},
     "output_type": "execute_result"
    },
    {
     "data": {
      "image/png": "[encoded data removed]",
      "text/plain": [
       "<Figure size 432x288 with 1 Axes>"
      ]
     },
     "metadata": {
      "needs_background": "light"
     },
     "output_type": "display_data"
    }
   ],
   "source": [
    "plt.plot(t[3:], most_likely, label='PlotRt')\n",
    "plt.plot(t[10:], res[0]['Mean(R)'], label='EpiEstim')\n",
    "plt.plot(t, np.ones_like(t)*1.0, 'r--', label='truth')\n",
    "plt.legend()"
   ]
  },
  {
   "cell_type": "markdown",
   "metadata": {},
   "source": [
    "## Step drop from R=2 to R=1 comparison EpiEstim vs PlotRt"
   ]
  },
  {
   "cell_type": "code",
   "execution_count": 103,
   "metadata": {},
   "outputs": [],
   "source": [
    "t = np.arange(50.)"
   ]
  },
  {
   "cell_type": "code",
   "execution_count": 104,
   "metadata": {},
   "outputs": [],
   "source": [
    "Rt = np.ones_like(t)"
   ]
  },
  {
   "cell_type": "code",
   "execution_count": 105,
   "metadata": {},
   "outputs": [],
   "source": [
    "Rt[:30]=2.0\n",
    "Rt[30:]=0.9"
   ]
  },
  {
   "cell_type": "code",
   "execution_count": 106,
   "metadata": {},
   "outputs": [
    {
     "data": {
      "text/plain": [
       "Text(0.5, 0, 'day')"
      ]
     },
     "execution_count": 106,
     "metadata": {},
     "output_type": "execute_result"
    },
    {
     "data": {
      "image/png": "[encoded data removed]",
      "text/plain": [
       "<Figure size 432x288 with 1 Axes>"
      ]
     },
     "metadata": {
      "needs_background": "light"
     },
     "output_type": "display_data"
    }
   ],
   "source": [
    "plt.plot(t, Rt)\n",
    "plt.ylabel('Rt')\n",
    "plt.xlabel('day')"
   ]
  },
  {
   "cell_type": "code",
   "execution_count": 107,
   "metadata": {},
   "outputs": [],
   "source": [
    "cases = synthRdata.generate_synthetic_cases_per_day(t, Rt, 20, si_dist)"
   ]
  },
  {
   "cell_type": "code",
   "execution_count": null,
   "metadata": {},
   "outputs": [],
   "source": []
  },
  {
   "cell_type": "code",
   "execution_count": 108,
   "metadata": {},
   "outputs": [
    {
     "data": {
      "text/plain": [
       "Text(0.5, 0, 'day')"
      ]
     },
     "execution_count": 108,
     "metadata": {},
     "output_type": "execute_result"
    },
    {
     "data": {
      "image/png": "[encoded data removed]",
      "text/plain": [
       "<Figure size 432x288 with 1 Axes>"
      ]
     },
     "metadata": {
      "needs_background": "light"
     },
     "output_type": "display_data"
    }
   ],
   "source": [
    "plt.plot(t, cases)\n",
    "plt.ylabel('cases/day')\n",
    "plt.xlabel('day')"
   ]
  },
  {
   "cell_type": "code",
   "execution_count": 109,
   "metadata": {},
   "outputs": [],
   "source": [
    "R_cases_per_day = robj.IntVector(cases)"
   ]
  },
  {
   "cell_type": "code",
   "execution_count": 110,
   "metadata": {},
   "outputs": [
    {
     "name": "stderr",
     "output_type": "stream",
     "text": [
      "R[write to console]: Default config will estimate R on weekly sliding windows.\n",
      "    To change this change the t_start and t_end arguments. \n",
      "\n"
     ]
    }
   ],
   "source": [
    "res = epiestim.estimate_R(R_cases_per_day[3:], method='parametric_si', config=epiestim.make_config(mean_si = si.mean(), std_si = si.std()))"
   ]
  },
  {
   "cell_type": "code",
   "execution_count": 111,
   "metadata": {},
   "outputs": [],
   "source": [
    "plotrt = PlotRt(R_T_MAX=4, sigma=0.25, GAMMA=1.0/si.mean())\n",
    "most_likely, _ = plotrt.compute(cases[3:], r0_estimate=2.0)"
   ]
  },
  {
   "cell_type": "code",
   "execution_count": 112,
   "metadata": {},
   "outputs": [
    {
     "data": {
      "text/plain": [
       "<matplotlib.legend.Legend at 0x7fa1958c5370>"
      ]
     },
     "execution_count": 112,
     "metadata": {},
     "output_type": "execute_result"
    },
    {
     "data": {
      "image/png": "[encoded data removed]",
      "text/plain": [
       "<Figure size 432x288 with 1 Axes>"
      ]
     },
     "metadata": {
      "needs_background": "light"
     },
     "output_type": "display_data"
    }
   ],
   "source": [
    "plt.plot(t[3:], most_likely, label='PlotRt')\n",
    "plt.plot(t[10:], res[0]['Mean(R)'], label='EpiEstim')\n",
    "plt.plot(t, Rt, 'r--', label='truth')\n",
    "plt.legend()"
   ]
  },
  {
   "cell_type": "markdown",
   "metadata": {},
   "source": [
    "## Conclusion\n",
    "\n",
    "Running and comparing PlotRt (ours) and EpiEstim (a leading impl in the R language) on various synthetic data scenarios with known Rs, and simulated data (with serial interval distribution), we determined the following properties of \n",
    "\n",
    "1) PlotRt is noisier than EpiEstim, but EpiEstim responds with a latency of ~5 for a step change in R, whereas PlotRt responds faster  \n",
    "2) Both PlotRt and EpiEstim correctly/accurately identify the R=1 scenario  \n",
    "3) For large R, both underestimate R, but EpiEstim generally appears to closer, though the improvement is only ~10%  \n",
    "4) EpiEstim requires installation of R, EpiEstim, rpy2, which is somewhat non-standard, and involved.\n",
    "\n",
    "If we want fast readout, use PlotRt.  \n",
    "If we want scitability, use EpiEstim.  \n",
    "If we want low noise, use EpiEstim.  \n",
    "If we want a simple, standalone Rt estimator, use PlotRt.  \n"
   ]
  },
  {
   "cell_type": "code",
   "execution_count": null,
   "metadata": {},
   "outputs": [],
   "source": []
  }
 ],
 "metadata": {
  "kernelspec": {
   "display_name": "Python 3",
   "language": "python",
   "name": "python3"
  },
  "language_info": {
   "codemirror_mode": {
    "name": "ipython",
    "version": 3
   },
   "file_extension": ".py",
   "mimetype": "text/x-python",
   "name": "python",
   "nbconvert_exporter": "python",
   "pygments_lexer": "ipython3",
   "version": "3.8.0"
  }
 },
 "nbformat": 4,
 "nbformat_minor": 4
}
