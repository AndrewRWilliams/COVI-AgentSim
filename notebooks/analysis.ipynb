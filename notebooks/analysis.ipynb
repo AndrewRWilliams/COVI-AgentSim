{
 "cells": [
  {
   "cell_type": "code",
   "execution_count": 78,
   "metadata": {},
   "outputs": [],
   "source": [
    "import pickle\n",
    "import os\n",
    "import glob\n",
    "from functools import reduce\n",
    "import copy\n",
    "import pdb\n",
    "\n",
    "from addict import Dict\n",
    "import numpy as np\n",
    "import networkx as nx\n",
    "from datetime import datetime\n",
    "\n",
    "import matplotlib.pyplot as plt\n",
    "\n",
    "import utils"
   ]
  },
  {
   "cell_type": "markdown",
   "metadata": {},
   "source": [
    "## Data Logistics"
   ]
  },
  {
   "cell_type": "code",
   "execution_count": 2,
   "metadata": {},
   "outputs": [],
   "source": [
    "data_config = Dict()\n",
    "data_config.root_dir = \"../src/covid19sim/output/sim_v2_people-100_days-20_init-0.05_seed-0_20200504-114211/\""
   ]
  },
  {
   "cell_type": "code",
   "execution_count": 3,
   "metadata": {},
   "outputs": [],
   "source": [
    "def load_logs(config=None):\n",
    "    config = config or data_config\n",
    "    # Read files in log dir and sort them by time\n",
    "    log_dir = os.path.join(config.root_dir, \"data\")\n",
    "    files = sorted([os.path.basename(p) \n",
    "                    for p in glob.glob(os.path.join(log_dir, \"*\"))])\n",
    "    # Load 'em up\n",
    "    logs = []\n",
    "    for file in files: \n",
    "        path = os.path.join(config.root_dir, \"data\", file)\n",
    "        with open(path, \"rb\") as f: \n",
    "            logs.extend(pickle.load(f))\n",
    "    return logs"
   ]
  },
  {
   "cell_type": "code",
   "execution_count": 4,
   "metadata": {},
   "outputs": [],
   "source": [
    "def load_human_day(day_idx, human_idx, config=None): \n",
    "    config = config or data_config\n",
    "    path = os.path.join(config.root_dir, \"daily_outputs\", \n",
    "                        str(day_idx), str(human_idx), \n",
    "                        \"daily_human.pkl\")\n",
    "    with open(path, \"rb\") as f: \n",
    "        info = pickle.load(f)\n",
    "    return info"
   ]
  },
  {
   "cell_type": "code",
   "execution_count": 5,
   "metadata": {},
   "outputs": [],
   "source": [
    "def get_encounter_logs(logs=None): \n",
    "    logs = load_logs() if logs is None else logs\n",
    "    encounter_logs = [log for log in logs if log[\"event_type\"] == \"encounter\"]\n",
    "    return encounter_logs"
   ]
  },
  {
   "cell_type": "code",
   "execution_count": 6,
   "metadata": {},
   "outputs": [],
   "source": [
    "encounter_logs = get_encounter_logs()"
   ]
  },
  {
   "cell_type": "markdown",
   "metadata": {},
   "source": [
    "## Construct an Encounter Graph\n",
    "\n",
    "Encounter graph is a multigraph, where nodes are humans and edges are encounters between humans. Human may have multiple encounters with each other, which is why we have a multi-graph at hand. "
   ]
  },
  {
   "cell_type": "code",
   "execution_count": 7,
   "metadata": {},
   "outputs": [],
   "source": [
    "def make_encounter_graph(encounter_logs=None): \n",
    "    encounter_logs = encounter_logs or get_encounter_logs()\n",
    "    encounter_graph = nx.MultiDiGraph()\n",
    "    for encounter_log in encounter_logs: \n",
    "        # Ids\n",
    "        human1_id = encounter_log[\"payload\"][\"unobserved\"][\"human1\"][\"human_id\"]\n",
    "        human2_id = encounter_log[\"payload\"][\"unobserved\"][\"human2\"][\"human_id\"]\n",
    "        # Write states\n",
    "        human1_state = Dict()\n",
    "        human2_state = Dict()\n",
    "        # Infection status\n",
    "        human1_state.is_infected = encounter_log[\"payload\"][\"unobserved\"][\"human1\"][\"infection_timestamp\"] is not None\n",
    "        human2_state.is_infected = encounter_log[\"payload\"][\"unobserved\"][\"human2\"][\"infection_timestamp\"] is not None\n",
    "        human1_state.got_exposed = encounter_log[\"payload\"][\"unobserved\"][\"human1\"][\"got_exposed\"]\n",
    "        human2_state.got_exposed = encounter_log[\"payload\"][\"unobserved\"][\"human2\"][\"got_exposed\"]\n",
    "        human1_state.caused_exposure = encounter_log[\"payload\"][\"unobserved\"][\"human1\"][\"exposed_other\"]\n",
    "        human2_state.caused_exposure = encounter_log[\"payload\"][\"unobserved\"][\"human2\"][\"exposed_other\"]\n",
    "        # Risk\n",
    "        human1_state.risk = encounter_log[\"payload\"][\"unobserved\"][\"human1\"][\"risk\"]\n",
    "        human2_state.risk = encounter_log[\"payload\"][\"unobserved\"][\"human2\"][\"risk\"]\n",
    "        human1_state.risk_level = encounter_log[\"payload\"][\"unobserved\"][\"human1\"][\"risk_level\"]\n",
    "        human2_state.risk_level = encounter_log[\"payload\"][\"unobserved\"][\"human2\"][\"risk_level\"]\n",
    "        # Recommendations\n",
    "        human1_state.rec_level = encounter_log[\"payload\"][\"unobserved\"][\"human1\"][\"rec_level\"]\n",
    "        human2_state.rec_level = encounter_log[\"payload\"][\"unobserved\"][\"human2\"][\"rec_level\"]\n",
    "        # Write stuff out\n",
    "        encounter_graph.add_edge(human1_id, human2_id, encounter_log[\"time\"], \n",
    "                                 human1_state=human1_state, human2_state=human2_state)\n",
    "    return encounter_graph"
   ]
  },
  {
   "cell_type": "markdown",
   "metadata": {},
   "source": [
    "The `filter_encounter_graph` function makes a new encounter graph from an existing one by keeping only the encounters that happen between the specified time limits (and removing all other encounters). "
   ]
  },
  {
   "cell_type": "code",
   "execution_count": 8,
   "metadata": {},
   "outputs": [],
   "source": [
    "def filter_encounter_graph(graph, from_time, to_time): \n",
    "    filtered = nx.MultiDiGraph()\n",
    "    filtered.add_nodes_from(graph.nodes)\n",
    "    for h1, h2, time in graph.edges: \n",
    "        if from_time <= time <= to_time: \n",
    "            filtered.add_edge(h1, h2, time, **graph.edges[h1, h2, time])\n",
    "    return filtered"
   ]
  },
  {
   "cell_type": "markdown",
   "metadata": {},
   "source": [
    "The `remove_encounter_graph_nodes` function removes nodes (and all edges) in the graph depending on a `condition_fn`. The `condition_fn` takes as input `human1_state` and `human2_state`, and outputs a bool saying if the condition is satisfied. For a given `human1` and for `reduction=\"and\"`, if the condition is satisfied for all encounters with all encounter partners, the `human1` is marked for removal. Likewise, if `reduction=\"or\"`, the human is marked for removal if the condition is satisfied for any encounter with any partner. `reduction` can also be a lambda. "
   ]
  },
  {
   "cell_type": "code",
   "execution_count": 9,
   "metadata": {},
   "outputs": [],
   "source": [
    "def remove_encounter_graph_nodes(graph, condition_fn, reduction=(lambda x, y: x and y)): \n",
    "    # Validate inputs\n",
    "    assert callable(condition_fn)\n",
    "    if isinstance(reduction, str): \n",
    "        if reduction == \"and\": \n",
    "            reduction = lambda x, y: x and y\n",
    "        elif reduction == \"or\":\n",
    "            reduction = lambda x, y: x or y\n",
    "        else:\n",
    "            raise ValueError\n",
    "    assert callable(reduction)\n",
    "    # Go\n",
    "    node_condition_mapping = Dict()\n",
    "    for node in graph.nodes: \n",
    "        conditions = []\n",
    "        for neighbor in graph[node]: \n",
    "            for keys in graph[node][neighbor]: \n",
    "                conditions.append(condition_fn(**graph[node][neighbor][keys]))\n",
    "        # pdb.set_trace()\n",
    "        reduce(reduction, conditions)\n",
    "        assert node not in node_condition_mapping\n",
    "        node_condition_mapping[node] = reduce(reduction, conditions)\n",
    "    nodes_to_remove = [node for node, cond in node_condition_mapping.items() if cond]\n",
    "    trimmed = copy.deepcopy(graph)\n",
    "    trimmed.remove_nodes_from(nodes_to_remove)\n",
    "    return trimmed"
   ]
  },
  {
   "cell_type": "markdown",
   "metadata": {},
   "source": [
    "`filter_edges` keeps an edge only if `condition_fn(time, human1_state, human2_state)` returns True. "
   ]
  },
  {
   "cell_type": "code",
   "execution_count": 10,
   "metadata": {},
   "outputs": [],
   "source": [
    "def filter_edges(graph, condition_fn): \n",
    "    assert callable(condition_fn)\n",
    "    trimmed = nx.MultiDiGraph()\n",
    "    for u, v, d in graph.edges: \n",
    "        if condition_fn(d, **graph[u][v][d]): \n",
    "            trimmed.add_edge(u, v, d, **graph[u][v][d])\n",
    "    return trimmed"
   ]
  },
  {
   "cell_type": "markdown",
   "metadata": {},
   "source": [
    "`collate_edges` summarizes multiple edges to a single edge with a `collate_fn`. The `collate_fn` takes as input all edges between any two nodes. "
   ]
  },
  {
   "cell_type": "code",
   "execution_count": 31,
   "metadata": {},
   "outputs": [],
   "source": [
    "def collate_edges(graph, collate_fn): \n",
    "    trimmed = nx.MultiDiGraph()\n",
    "    for u in graph.nodes: \n",
    "        for v in graph[u]: \n",
    "            new_d, new_attries = collate_fn(graph[u][v])\n",
    "            trimmed.add_edge(u, v, new_d, **new_attries)\n",
    "    return trimmed"
   ]
  },
  {
   "cell_type": "code",
   "execution_count": 32,
   "metadata": {},
   "outputs": [],
   "source": [
    "def to_digraph(graph): \n",
    "    digraph = nx.DiGraph()\n",
    "    for u in graph: \n",
    "        for v in graph[u]: \n",
    "            assert len(graph[u][v]) == 1\n",
    "            time = list(graph[u][v].keys())[0]\n",
    "            digraph.add_edge(u, v, time=time)\n",
    "    return digraph"
   ]
  },
  {
   "cell_type": "markdown",
   "metadata": {},
   "source": [
    "### Functional Filters"
   ]
  },
  {
   "cell_type": "markdown",
   "metadata": {},
   "source": [
    "It should be able to manipulate the graph with just these filters."
   ]
  },
  {
   "cell_type": "code",
   "execution_count": 25,
   "metadata": {},
   "outputs": [],
   "source": [
    "# Node removal\n",
    "def is_not_infected(human1_state, human2_state): \n",
    "    return not human1_state[\"is_infected\"]\n",
    "\n",
    "# Edge filtering\n",
    "def is_contagion(time, human1_state, human2_state): \n",
    "    return human2_state[\"got_exposed\"]\n",
    "\n",
    "# Collating\n",
    "def keep_most_recent(edge_spec): \n",
    "    most_recent_date = max(list(edge_spec.keys()))\n",
    "    most_recent_attries = edge_spec[most_recent_date]\n",
    "    return most_recent_date, most_recent_attries"
   ]
  },
  {
   "cell_type": "markdown",
   "metadata": {},
   "source": [
    "## Playtime"
   ]
  },
  {
   "cell_type": "code",
   "execution_count": 13,
   "metadata": {},
   "outputs": [],
   "source": [
    "encounter_graph = make_encounter_graph(encounter_logs)"
   ]
  },
  {
   "cell_type": "code",
   "execution_count": 21,
   "metadata": {},
   "outputs": [],
   "source": [
    "INTERVAL_START = datetime(2020, 2, 28)\n",
    "INTERVAL_STOP = datetime(2020, 3, 10)\n",
    "eg_at_interval = filter_encounter_graph(encounter_graph, INTERVAL_START, INTERVAL_STOP)"
   ]
  },
  {
   "cell_type": "code",
   "execution_count": 22,
   "metadata": {},
   "outputs": [],
   "source": [
    "contagion_graph = filter_edges(eg_at_interval, is_contagion)"
   ]
  },
  {
   "cell_type": "code",
   "execution_count": 27,
   "metadata": {},
   "outputs": [
    {
     "name": "stdout",
     "output_type": "stream",
     "text": [
      "human:8 --> human:7 (Time: 2020-03-01 09:30:00)\n",
      "human:92 --> human:93 (Time: 2020-03-01 14:59:00)\n",
      "human:26 --> human:25 (Time: 2020-03-01 15:00:00)\n",
      "human:100 --> human:96 (Time: 2020-03-01 17:58:00)\n",
      "human:61 --> human:62 (Time: 2020-03-02 00:34:00)\n",
      "human:24 --> human:23 (Time: 2020-03-02 15:32:00)\n",
      "human:100 --> human:97 (Time: 2020-03-02 17:56:00)\n",
      "human:92 --> human:91 (Time: 2020-03-02 20:01:00)\n",
      "human:8 --> human:49 (Time: 2020-03-03 09:34:00)\n",
      "human:61 --> human:60 (Time: 2020-03-04 06:58:00)\n",
      "human:93 --> human:95 (Time: 2020-03-04 21:31:00)\n",
      "human:96 --> human:98 (Time: 2020-03-04 22:03:00)\n",
      "human:62 --> human:79 (Time: 2020-03-05 07:26:00)\n",
      "human:25 --> human:70 (Time: 2020-03-05 10:30:00)\n",
      "human:7 --> human:1 (Time: 2020-03-05 21:12:00)\n",
      "human:49 --> human:50 (Time: 2020-03-06 01:30:00)\n",
      "human:91 --> human:94 (Time: 2020-03-06 03:02:00)\n",
      "human:49 --> human:52 (Time: 2020-03-06 05:39:00)\n",
      "human:62 --> human:12 (Time: 2020-03-06 08:30:00)\n",
      "human:23 --> human:28 (Time: 2020-03-06 16:15:00)\n",
      "human:60 --> human:10 (Time: 2020-03-07 08:02:00)\n",
      "human:60 --> human:59 (Time: 2020-03-07 18:00:00)\n",
      "human:49 --> human:51 (Time: 2020-03-07 20:10:00)\n",
      "human:79 --> human:82 (Time: 2020-03-08 03:20:00)\n",
      "human:70 --> human:71 (Time: 2020-03-09 04:43:00)\n",
      "human:50 --> human:48 (Time: 2020-03-09 06:29:00)\n",
      "human:12 --> human:2 (Time: 2020-03-09 11:59:00)\n"
     ]
    }
   ],
   "source": [
    "for u, v, d in sorted(contagion_graph.edges, key=lambda x: x[-1]): \n",
    "    print(f\"{u} --> {v} (Time: {d})\")"
   ]
  },
  {
   "cell_type": "code",
   "execution_count": 33,
   "metadata": {},
   "outputs": [],
   "source": [
    "contagion_digraph = to_digraph(contagion_graph)"
   ]
  },
  {
   "cell_type": "code",
   "execution_count": 64,
   "metadata": {},
   "outputs": [],
   "source": [
    "contagion_subgraphs = [contagion_digraph.subgraph(sg) \n",
    "                       for sg in nx.weakly_connected_components(contagion_digraph)]"
   ]
  },
  {
   "cell_type": "code",
   "execution_count": 83,
   "metadata": {},
   "outputs": [
    {
     "data": {
      "image/png": "[encoded data removed]",
      "text/plain": [
       "<Figure size 432x288 with 1 Axes>"
      ]
     },
     "metadata": {},
     "output_type": "display_data"
    },
    {
     "data": {
      "image/png": "[encoded data removed]",
      "text/plain": [
       "<Figure size 432x288 with 1 Axes>"
      ]
     },
     "metadata": {},
     "output_type": "display_data"
    },
    {
     "data": {
      "image/png": "[encoded data removed]",
      "text/plain": [
       "<Figure size 432x288 with 1 Axes>"
      ]
     },
     "metadata": {},
     "output_type": "display_data"
    }
   ],
   "source": [
    "for k in range(3):\n",
    "    nx.draw(contagion_subgraphs[k], \n",
    "            pos=utils.hierarchy_pos(contagion_subgraphs[k]), \n",
    "            with_labels=True, node_size=2000, node_color=\"w\")\n",
    "    plt.show()"
   ]
  },
  {
   "cell_type": "code",
   "execution_count": null,
   "metadata": {},
   "outputs": [],
   "source": []
  }
 ],
 "metadata": {
  "kernelspec": {
   "display_name": "Python 3",
   "language": "python",
   "name": "python3"
  },
  "language_info": {
   "codemirror_mode": {
    "name": "ipython",
    "version": 3
   },
   "file_extension": ".py",
   "mimetype": "text/x-python",
   "name": "python",
   "nbconvert_exporter": "python",
   "pygments_lexer": "ipython3",
   "version": "3.7.6"
  }
 },
 "nbformat": 4,
 "nbformat_minor": 4
}
