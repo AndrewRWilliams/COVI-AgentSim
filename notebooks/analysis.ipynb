{
 "cells": [
  {
   "cell_type": "code",
   "execution_count": 120,
   "metadata": {},
   "outputs": [],
   "source": [
    "import pickle\n",
    "import os\n",
    "import glob\n",
    "from functools import reduce\n",
    "import copy\n",
    "import pdb\n",
    "\n",
    "from addict import Dict\n",
    "import numpy as np\n",
    "import networkx as nx\n",
    "from datetime import datetime\n",
    "\n",
    "import matplotlib.pyplot as plt\n",
    "import seaborn as sns\n",
    "sns.set()\n",
    "\n",
    "import utils"
   ]
  },
  {
   "cell_type": "markdown",
   "metadata": {},
   "source": [
    "## Data Logistics"
   ]
  },
  {
   "cell_type": "code",
   "execution_count": 2,
   "metadata": {},
   "outputs": [],
   "source": [
    "data_config = Dict()\n",
    "data_config.root_dir = \"../src/covid19sim/output/sim_v2_people-100_days-20_init-0.05_seed-0_20200504-114211/\""
   ]
  },
  {
   "cell_type": "code",
   "execution_count": 3,
   "metadata": {},
   "outputs": [],
   "source": [
    "def load_logs(config=None):\n",
    "    config = config or data_config\n",
    "    # Read files in log dir and sort them by time\n",
    "    log_dir = os.path.join(config.root_dir, \"data\")\n",
    "    files = sorted([os.path.basename(p) \n",
    "                    for p in glob.glob(os.path.join(log_dir, \"*\"))])\n",
    "    # Load 'em up\n",
    "    logs = []\n",
    "    for file in files: \n",
    "        path = os.path.join(config.root_dir, \"data\", file)\n",
    "        with open(path, \"rb\") as f: \n",
    "            logs.extend(pickle.load(f))\n",
    "    return logs"
   ]
  },
  {
   "cell_type": "code",
   "execution_count": 4,
   "metadata": {},
   "outputs": [],
   "source": [
    "def load_human_day(day_idx, human_idx, config=None): \n",
    "    config = config or data_config\n",
    "    path = os.path.join(config.root_dir, \"daily_outputs\", \n",
    "                        str(day_idx), str(human_idx), \n",
    "                        \"daily_human.pkl\")\n",
    "    with open(path, \"rb\") as f: \n",
    "        info = pickle.load(f)\n",
    "    return info"
   ]
  },
  {
   "cell_type": "code",
   "execution_count": 5,
   "metadata": {},
   "outputs": [],
   "source": [
    "def get_encounter_logs(logs=None): \n",
    "    logs = load_logs() if logs is None else logs\n",
    "    encounter_logs = [log for log in logs if log[\"event_type\"] == \"encounter\"]\n",
    "    return encounter_logs"
   ]
  },
  {
   "cell_type": "code",
   "execution_count": 6,
   "metadata": {},
   "outputs": [],
   "source": [
    "encounter_logs = get_encounter_logs()"
   ]
  },
  {
   "cell_type": "markdown",
   "metadata": {},
   "source": [
    "## Construct an Encounter Graph\n",
    "\n",
    "Encounter graph is a multigraph, where nodes are humans and edges are encounters between humans. Human may have multiple encounters with each other, which is why we have a multi-graph at hand. "
   ]
  },
  {
   "cell_type": "code",
   "execution_count": 7,
   "metadata": {},
   "outputs": [],
   "source": [
    "def make_encounter_graph(encounter_logs=None): \n",
    "    encounter_logs = encounter_logs or get_encounter_logs()\n",
    "    encounter_graph = nx.MultiDiGraph()\n",
    "    for encounter_log in encounter_logs: \n",
    "        # Ids\n",
    "        human1_id = encounter_log[\"payload\"][\"unobserved\"][\"human1\"][\"human_id\"]\n",
    "        human2_id = encounter_log[\"payload\"][\"unobserved\"][\"human2\"][\"human_id\"]\n",
    "        # Write states\n",
    "        human1_state = Dict()\n",
    "        human2_state = Dict()\n",
    "        # Infection status\n",
    "        human1_state.is_infected = encounter_log[\"payload\"][\"unobserved\"][\"human1\"][\"infection_timestamp\"] is not None\n",
    "        human2_state.is_infected = encounter_log[\"payload\"][\"unobserved\"][\"human2\"][\"infection_timestamp\"] is not None\n",
    "        human1_state.got_exposed = encounter_log[\"payload\"][\"unobserved\"][\"human1\"][\"got_exposed\"]\n",
    "        human2_state.got_exposed = encounter_log[\"payload\"][\"unobserved\"][\"human2\"][\"got_exposed\"]\n",
    "        human1_state.caused_exposure = encounter_log[\"payload\"][\"unobserved\"][\"human1\"][\"exposed_other\"]\n",
    "        human2_state.caused_exposure = encounter_log[\"payload\"][\"unobserved\"][\"human2\"][\"exposed_other\"]\n",
    "        # Risk\n",
    "        human1_state.risk = encounter_log[\"payload\"][\"unobserved\"][\"human1\"][\"risk\"]\n",
    "        human2_state.risk = encounter_log[\"payload\"][\"unobserved\"][\"human2\"][\"risk\"]\n",
    "        human1_state.risk_level = encounter_log[\"payload\"][\"unobserved\"][\"human1\"][\"risk_level\"]\n",
    "        human2_state.risk_level = encounter_log[\"payload\"][\"unobserved\"][\"human2\"][\"risk_level\"]\n",
    "        # Recommendations\n",
    "        human1_state.rec_level = encounter_log[\"payload\"][\"unobserved\"][\"human1\"][\"rec_level\"]\n",
    "        human2_state.rec_level = encounter_log[\"payload\"][\"unobserved\"][\"human2\"][\"rec_level\"]\n",
    "        # Write stuff out\n",
    "        encounter_graph.add_edge(human1_id, human2_id, encounter_log[\"time\"], \n",
    "                                 human1_state=human1_state, human2_state=human2_state)\n",
    "    return encounter_graph"
   ]
  },
  {
   "cell_type": "markdown",
   "metadata": {},
   "source": [
    "The `filter_encounter_graph` function makes a new encounter graph from an existing one by keeping only the encounters that happen between the specified time limits (and removing all other encounters). "
   ]
  },
  {
   "cell_type": "code",
   "execution_count": 8,
   "metadata": {},
   "outputs": [],
   "source": [
    "def filter_encounter_graph(graph, from_time, to_time): \n",
    "    filtered = nx.MultiDiGraph()\n",
    "    filtered.add_nodes_from(graph.nodes)\n",
    "    for h1, h2, time in graph.edges: \n",
    "        if from_time <= time <= to_time: \n",
    "            filtered.add_edge(h1, h2, time, **graph.edges[h1, h2, time])\n",
    "    return filtered"
   ]
  },
  {
   "cell_type": "markdown",
   "metadata": {},
   "source": [
    "The `remove_encounter_graph_nodes` function removes nodes (and all edges) in the graph depending on a `condition_fn`. The `condition_fn` takes as input `human1_state` and `human2_state`, and outputs a bool saying if the condition is satisfied. For a given `human1` and for `reduction=\"and\"`, if the condition is satisfied for all encounters with all encounter partners, the `human1` is marked for removal. Likewise, if `reduction=\"or\"`, the human is marked for removal if the condition is satisfied for any encounter with any partner. `reduction` can also be a lambda. "
   ]
  },
  {
   "cell_type": "code",
   "execution_count": 9,
   "metadata": {},
   "outputs": [],
   "source": [
    "def remove_encounter_graph_nodes(graph, condition_fn, reduction=(lambda x, y: x and y)): \n",
    "    # Validate inputs\n",
    "    assert callable(condition_fn)\n",
    "    if isinstance(reduction, str): \n",
    "        if reduction == \"and\": \n",
    "            reduction = lambda x, y: x and y\n",
    "        elif reduction == \"or\":\n",
    "            reduction = lambda x, y: x or y\n",
    "        else:\n",
    "            raise ValueError\n",
    "    assert callable(reduction)\n",
    "    # Go\n",
    "    node_condition_mapping = Dict()\n",
    "    for node in graph.nodes: \n",
    "        conditions = []\n",
    "        for neighbor in graph[node]: \n",
    "            for keys in graph[node][neighbor]: \n",
    "                conditions.append(condition_fn(**graph[node][neighbor][keys]))\n",
    "        # pdb.set_trace()\n",
    "        reduce(reduction, conditions)\n",
    "        assert node not in node_condition_mapping\n",
    "        node_condition_mapping[node] = reduce(reduction, conditions)\n",
    "    nodes_to_remove = [node for node, cond in node_condition_mapping.items() if cond]\n",
    "    trimmed = copy.deepcopy(graph)\n",
    "    trimmed.remove_nodes_from(nodes_to_remove)\n",
    "    return trimmed"
   ]
  },
  {
   "cell_type": "markdown",
   "metadata": {},
   "source": [
    "`filter_edges` keeps an edge only if `condition_fn(time, human1_state, human2_state)` returns True. "
   ]
  },
  {
   "cell_type": "code",
   "execution_count": 10,
   "metadata": {},
   "outputs": [],
   "source": [
    "def filter_edges(graph, condition_fn): \n",
    "    assert callable(condition_fn)\n",
    "    trimmed = nx.MultiDiGraph()\n",
    "    for u, v, d in graph.edges: \n",
    "        if condition_fn(d, **graph[u][v][d]): \n",
    "            trimmed.add_edge(u, v, d, **graph[u][v][d])\n",
    "    return trimmed"
   ]
  },
  {
   "cell_type": "markdown",
   "metadata": {},
   "source": [
    "`collate_edges` summarizes multiple edges to a single edge with a `collate_fn`. The `collate_fn` takes as input all edges between any two nodes. "
   ]
  },
  {
   "cell_type": "code",
   "execution_count": 31,
   "metadata": {},
   "outputs": [],
   "source": [
    "def collate_edges(graph, collate_fn): \n",
    "    trimmed = nx.MultiDiGraph()\n",
    "    for u in graph.nodes: \n",
    "        for v in graph[u]: \n",
    "            new_d, new_attries = collate_fn(graph[u][v])\n",
    "            trimmed.add_edge(u, v, new_d, **new_attries)\n",
    "    return trimmed"
   ]
  },
  {
   "cell_type": "code",
   "execution_count": 84,
   "metadata": {},
   "outputs": [],
   "source": [
    "def to_digraph(graph, attry_extractor=(lambda human1_state, human2_state: {})): \n",
    "    digraph = nx.DiGraph()\n",
    "    for u in graph: \n",
    "        for v in graph[u]: \n",
    "            assert len(graph[u][v]) == 1\n",
    "            time = list(graph[u][v].keys())[0]\n",
    "            extra_attries = attry_extractor(**graph[u][v][time])\n",
    "            digraph.add_edge(u, v, time=time, **extra_attries)\n",
    "    return digraph"
   ]
  },
  {
   "cell_type": "markdown",
   "metadata": {},
   "source": [
    "### Functional Filters"
   ]
  },
  {
   "cell_type": "markdown",
   "metadata": {},
   "source": [
    "It should be able to manipulate the graph with just these filters."
   ]
  },
  {
   "cell_type": "code",
   "execution_count": 25,
   "metadata": {},
   "outputs": [],
   "source": [
    "# Node removal\n",
    "def is_not_infected(human1_state, human2_state): \n",
    "    return not human1_state[\"is_infected\"]\n",
    "\n",
    "# Edge filtering\n",
    "def is_contagion(time, human1_state, human2_state): \n",
    "    return human2_state[\"got_exposed\"]\n",
    "\n",
    "# Collating\n",
    "def keep_most_recent(edge_spec): \n",
    "    most_recent_date = max(list(edge_spec.keys()))\n",
    "    most_recent_attries = edge_spec[most_recent_date]\n",
    "    return most_recent_date, most_recent_attries"
   ]
  },
  {
   "cell_type": "markdown",
   "metadata": {},
   "source": [
    "## Playtime"
   ]
  },
  {
   "cell_type": "code",
   "execution_count": 13,
   "metadata": {},
   "outputs": [],
   "source": [
    "encounter_graph = make_encounter_graph(encounter_logs)"
   ]
  },
  {
   "cell_type": "code",
   "execution_count": 131,
   "metadata": {},
   "outputs": [],
   "source": [
    "INTERVAL_START = datetime(2020, 2, 28)\n",
    "INTERVAL_STOP = datetime(2020, 3, 20)\n",
    "eg_at_interval = filter_encounter_graph(encounter_graph, INTERVAL_START, INTERVAL_STOP)"
   ]
  },
  {
   "cell_type": "code",
   "execution_count": 132,
   "metadata": {},
   "outputs": [],
   "source": [
    "contagion_graph = filter_edges(eg_at_interval, is_contagion)"
   ]
  },
  {
   "cell_type": "code",
   "execution_count": 137,
   "metadata": {},
   "outputs": [],
   "source": [
    "VERBOSE = False\n",
    "for u, v, d in sorted(contagion_graph.edges, key=lambda x: x[-1]): \n",
    "    if VERBOSE:\n",
    "        print(f\"{u} --> {v} (Time: {d})\")"
   ]
  },
  {
   "cell_type": "code",
   "execution_count": 134,
   "metadata": {},
   "outputs": [],
   "source": [
    "contagion_digraph = to_digraph(contagion_graph, \n",
    "                               lambda human1_state, human2_state: dict(exposer_risk=human1_state[\"risk\"], \n",
    "                                                                       exposer_risk_level=human1_state[\"risk_level\"], \n",
    "                                                                       exposer_rec_level=human1_state[\"rec_level\"]))"
   ]
  },
  {
   "cell_type": "markdown",
   "metadata": {},
   "source": [
    "### Risk and Recommendation Levels at Exposure\n",
    "\n",
    "The following plots show the distributions over risk and recommendation levels at the time of exposure. This must be interpreted carefully, because tracing might change the distribution over the infectors (via intervention). It is much more meaningful if the distribution is observational and therefore stationary. "
   ]
  },
  {
   "cell_type": "code",
   "execution_count": 143,
   "metadata": {},
   "outputs": [
    {
     "data": {
      "image/png": "[encoded data removed]",
      "text/plain": [
       "<Figure size 1152x288 with 2 Axes>"
      ]
     },
     "metadata": {},
     "output_type": "display_data"
    }
   ],
   "source": [
    "risks_at_exposure = [contagion_digraph[u][v][\"exposer_risk_level\"] for u, v in contagion_digraph.edges]\n",
    "recs_at_exposure = [contagion_digraph[u][v][\"exposer_rec_level\"] for u, v in contagion_digraph.edges]\n",
    "median_risk_at_exposure = np.median(risks_at_exposure)\n",
    "std_risk_at_exposure = np.std(risks_at_exposure)\n",
    "median_rec_at_exposure = np.median(recs_at_exposure)\n",
    "std_rec_at_exposure = np.std(recs_at_exposure)\n",
    "\n",
    "fig, axs = plt.subplots(1, 2, figsize=(16, 4))\n",
    "axs[0].set_title(f\"Median Risk Level = {median_risk_at_exposure} between \\n{INTERVAL_START} -- {INTERVAL_STOP}\")\n",
    "axs[0].hist(risks_at_exposure)\n",
    "axs[1].set_title(f\"Median Recs Level = {median_risk_at_exposure} between \\n{INTERVAL_START} -- {INTERVAL_STOP}\")\n",
    "axs[1].hist(recs_at_exposure)\n",
    "plt.show()"
   ]
  },
  {
   "cell_type": "markdown",
   "metadata": {},
   "source": [
    "### Infection Chains\n",
    "\n",
    "The following plots show the infection trees together with the risk level of infectors at the time of infection. "
   ]
  },
  {
   "cell_type": "code",
   "execution_count": 122,
   "metadata": {},
   "outputs": [],
   "source": [
    "contagion_subgraphs = [contagion_digraph.subgraph(sg) \n",
    "                       for sg in nx.weakly_connected_components(contagion_digraph)]"
   ]
  },
  {
   "cell_type": "code",
   "execution_count": 149,
   "metadata": {},
   "outputs": [
    {
     "data": {
      "image/png": "[encoded data removed]",
      "text/plain": [
       "<Figure size 432x288 with 1 Axes>"
      ]
     },
     "metadata": {},
     "output_type": "display_data"
    },
    {
     "data": {
      "image/png": "[encoded data removed]",
      "text/plain": [
       "<Figure size 432x288 with 1 Axes>"
      ]
     },
     "metadata": {},
     "output_type": "display_data"
    },
    {
     "data": {
      "image/png": "[encoded data removed]",
      "text/plain": [
       "<Figure size 432x288 with 1 Axes>"
      ]
     },
     "metadata": {},
     "output_type": "display_data"
    },
    {
     "data": {
      "image/png": "[encoded data removed]",
      "text/plain": [
       "<Figure size 432x288 with 1 Axes>"
      ]
     },
     "metadata": {},
     "output_type": "display_data"
    },
    {
     "data": {
      "image/png": "[encoded data removed]",
      "text/plain": [
       "<Figure size 432x288 with 1 Axes>"
      ]
     },
     "metadata": {},
     "output_type": "display_data"
    },
    {
     "data": {
      "image/png": "[encoded data removed]",
      "text/plain": [
       "<Figure size 432x288 with 1 Axes>"
      ]
     },
     "metadata": {},
     "output_type": "display_data"
    }
   ],
   "source": [
    "for k in range(len(contagion_subgraphs)):\n",
    "    pos = utils.hierarchy_pos(contagion_subgraphs[k])\n",
    "    width = [contagion_subgraphs[k][u][v][\"exposer_risk\"] + 1\n",
    "             for u, v in contagion_subgraphs[k].edges]\n",
    "    edge_labels = {(u, v): \"{}\".format(contagion_subgraphs[k][u][v][\"exposer_risk_level\"]) \n",
    "                   for u, v in contagion_subgraphs[k].edges}\n",
    "    nx.draw(contagion_subgraphs[k], \n",
    "            pos=pos, \n",
    "            labels={node: \"H:\" + node.split(\":\")[-1] for node in contagion_subgraphs[k].nodes},\n",
    "            with_labels=True, node_size=700, node_color=\"w\", \n",
    "            width=width)\n",
    "    nx.draw_networkx_edge_labels(contagion_subgraphs[k], pos, edge_labels)\n",
    "    plt.show()"
   ]
  }
 ],
 "metadata": {
  "kernelspec": {
   "display_name": "Python 3",
   "language": "python",
   "name": "python3"
  },
  "language_info": {
   "codemirror_mode": {
    "name": "ipython",
    "version": 3
   },
   "file_extension": ".py",
   "mimetype": "text/x-python",
   "name": "python",
   "nbconvert_exporter": "python",
   "pygments_lexer": "ipython3",
   "version": "3.7.6"
  }
 },
 "nbformat": 4,
 "nbformat_minor": 4
}
