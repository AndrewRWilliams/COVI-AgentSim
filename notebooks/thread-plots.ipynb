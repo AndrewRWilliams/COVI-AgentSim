{
 "cells": [
  {
   "cell_type": "code",
   "execution_count": 79,
   "metadata": {},
   "outputs": [],
   "source": [
    "import os\n",
    "import pickle as pkl\n",
    "import numpy as np\n",
    "import pandas as pd\n",
    "from collections import defaultdict\n",
    "\n",
    "import matplotlib.pyplot as plt\n",
    "import seaborn as sns\n",
    "sns.set(style=\"darkgrid\")"
   ]
  },
  {
   "cell_type": "code",
   "execution_count": 63,
   "metadata": {},
   "outputs": [],
   "source": [
    "BASE_PATH = \"/home/nrahaman/python/simulator/work/fancyplots_bigomo_careful_biginit\"\n",
    "\n",
    "METHODS = {p: os.path.join(BASE_PATH, p) for p in os.listdir(BASE_PATH)}\n",
    "# Shortcuts\n",
    "BDT1 = \"binary_digital_tracing_order_1\"\n",
    "BDT2 = \"binary_digital_tracing_order_2\"\n",
    "UNMITIGATED = \"no_intervention\"\n",
    "ORACLE = \"oracle\"\n",
    "TRANSFORMER = lambda name: f\"transformer{name}\""
   ]
  },
  {
   "cell_type": "code",
   "execution_count": 64,
   "metadata": {},
   "outputs": [
    {
     "data": {
      "text/plain": [
       "{'binary_digital_tracing_order_1': '/home/nrahaman/python/simulator/work/fancyplots_bigomo_careful_biginit/binary_digital_tracing_order_1',\n",
       " 'binary_digital_tracing_order_2': '/home/nrahaman/python/simulator/work/fancyplots_bigomo_careful_biginit/binary_digital_tracing_order_2',\n",
       " 'no_intervention': '/home/nrahaman/python/simulator/work/fancyplots_bigomo_careful_biginit/no_intervention',\n",
       " 'oracle': '/home/nrahaman/python/simulator/work/fancyplots_bigomo_careful_biginit/oracle',\n",
       " 'transformerAVID-WAVE-652B': '/home/nrahaman/python/simulator/work/fancyplots_bigomo_careful_biginit/transformerAVID-WAVE-652B',\n",
       " 'transformerOLIVE-PLANT-687A': '/home/nrahaman/python/simulator/work/fancyplots_bigomo_careful_biginit/transformerOLIVE-PLANT-687A',\n",
       " 'transformerPROUD-DONKEY-686B': '/home/nrahaman/python/simulator/work/fancyplots_bigomo_careful_biginit/transformerPROUD-DONKEY-686B',\n",
       " 'transformerSCARLET-DAWN-653A': '/home/nrahaman/python/simulator/work/fancyplots_bigomo_careful_biginit/transformerSCARLET-DAWN-653A',\n",
       " 'transformerPROUD-DONKEY-686A': '/home/nrahaman/python/simulator/work/fancyplots_bigomo_careful_biginit/transformerPROUD-DONKEY-686A'}"
      ]
     },
     "execution_count": 64,
     "metadata": {},
     "output_type": "execute_result"
    }
   ],
   "source": [
    "METHODS"
   ]
  },
  {
   "cell_type": "code",
   "execution_count": 5,
   "metadata": {},
   "outputs": [],
   "source": [
    "def load_tracker_data(method, condition=lambda people, days, init, uptake, seed: True): \n",
    "    pickles, paths = [], []\n",
    "    sims = os.listdir(METHODS[method])\n",
    "    for sim in sims: \n",
    "        sim_stats = sim.split(\"_\")\n",
    "        people = int(sim_stats[2].split(\"-\")[-1])\n",
    "        days = int(sim_stats[3].split(\"-\")[-1])\n",
    "        init = float(sim_stats[4].split(\"-\")[-1])\n",
    "        uptake = float(sim_stats[5].split(\"-\")[-1])\n",
    "        seed = int(sim_stats[6].split(\"-\")[-1])\n",
    "        if condition(people, days, init, uptake, seed): \n",
    "            sim_path = os.path.join(METHODS[method], sim)\n",
    "            for artefact in os.listdir(sim_path): \n",
    "                if not artefact.startswith(\"tracker_data\"):\n",
    "                    continue\n",
    "                artefact_path = os.path.join(sim_path, artefact)\n",
    "                print(f\"Loading artefact: {artefact_path}\")\n",
    "                with open(artefact_path, \"rb\") as f: \n",
    "                    pickles.append(pkl.load(f))\n",
    "                paths.append(artefact_path)\n",
    "    return pickles, paths"
   ]
  },
  {
   "cell_type": "code",
   "execution_count": 6,
   "metadata": {},
   "outputs": [],
   "source": [
    "# # This is commented out to prevent accidental overwriting\n",
    "stats = {}"
   ]
  },
  {
   "cell_type": "code",
   "execution_count": 100,
   "metadata": {},
   "outputs": [
    {
     "name": "stdout",
     "output_type": "stream",
     "text": [
      "---------transformerPROUD-DONKEY-686B----------\n",
      "Loading artefact: /home/nrahaman/python/simulator/work/fancyplots_bigomo_careful_biginit/transformerPROUD-DONKEY-686B/sim_v2_people-1000_days-30_init-0.01_uptake-0.8415_seed-5005_20200615-135847_085054/tracker_data_n_1000_seed_5005_20200615-142549_.pkl\n",
      "Loading artefact: /home/nrahaman/python/simulator/work/fancyplots_bigomo_careful_biginit/transformerPROUD-DONKEY-686B/sim_v2_people-1000_days-30_init-0.01_uptake-0.8415_seed-5001_20200615-135848_054705/tracker_data_n_1000_seed_5001_20200615-142912_.pkl\n",
      "Loading artefact: /home/nrahaman/python/simulator/work/fancyplots_bigomo_careful_biginit/transformerPROUD-DONKEY-686B/sim_v2_people-1000_days-30_init-0.01_uptake-0.8415_seed-5007_20200615-135848_298758/tracker_data_n_1000_seed_5007_20200615-142836_.pkl\n",
      "Loading artefact: /home/nrahaman/python/simulator/work/fancyplots_bigomo_careful_biginit/transformerPROUD-DONKEY-686B/sim_v2_people-1000_days-30_init-0.01_uptake-0.8415_seed-5010_20200615-135904_746440/tracker_data_n_1000_seed_5010_20200615-142225_.pkl\n",
      "Loading artefact: /home/nrahaman/python/simulator/work/fancyplots_bigomo_careful_biginit/transformerPROUD-DONKEY-686B/sim_v2_people-1000_days-30_init-0.01_uptake-0.8415_seed-5000_20200615-135847_232378/tracker_data_n_1000_seed_5000_20200615-143007_.pkl\n",
      "Loading artefact: /home/nrahaman/python/simulator/work/fancyplots_bigomo_careful_biginit/transformerPROUD-DONKEY-686B/sim_v2_people-1000_days-30_init-0.01_uptake-0.8415_seed-5008_20200615-135904_065682/tracker_data_n_1000_seed_5008_20200615-143005_.pkl\n",
      "Loading artefact: /home/nrahaman/python/simulator/work/fancyplots_bigomo_careful_biginit/transformerPROUD-DONKEY-686B/sim_v2_people-1000_days-30_init-0.01_uptake-0.8415_seed-5002_20200615-135847_721186/tracker_data_n_1000_seed_5002_20200615-161220_.pkl\n",
      "Loading artefact: /home/nrahaman/python/simulator/work/fancyplots_bigomo_careful_biginit/transformerPROUD-DONKEY-686B/sim_v2_people-1000_days-30_init-0.01_uptake-0.8415_seed-5003_20200615-135847_155306/tracker_data_n_1000_seed_5003_20200615-142254_.pkl\n",
      "Loading artefact: /home/nrahaman/python/simulator/work/fancyplots_bigomo_careful_biginit/transformerPROUD-DONKEY-686B/sim_v2_people-1000_days-30_init-0.01_uptake-0.8415_seed-5006_20200615-135848_768115/tracker_data_n_1000_seed_5006_20200615-142559_.pkl\n",
      "Loading artefact: /home/nrahaman/python/simulator/work/fancyplots_bigomo_careful_biginit/transformerPROUD-DONKEY-686B/sim_v2_people-1000_days-30_init-0.01_uptake-0.8415_seed-5009_20200615-135907_851526/tracker_data_n_1000_seed_5009_20200615-155109_.pkl\n",
      "Loading artefact: /home/nrahaman/python/simulator/work/fancyplots_bigomo_careful_biginit/transformerPROUD-DONKEY-686B/sim_v2_people-1000_days-30_init-0.01_uptake-0.8415_seed-5004_20200615-135848_941872/tracker_data_n_1000_seed_5004_20200615-142539_.pkl\n"
     ]
    }
   ],
   "source": [
    "# ------------------------------CONTROL PANEL--------------------------------\n",
    "exclude = {}\n",
    "# exclude = {TRANSFORMER(\"PROUD-DONKEY-686B\")}\n",
    "\n",
    "# include = {ORACLE, TRANSFORMER(\"AVID-WAVE-652B\"), TRANSFORMER(\"PROUD-DONKEY-686A\"), BDT1, BDT2, UNMITIGATED}\n",
    "include = METHODS\n",
    "\n",
    "reload = {TRANSFORMER(\"PROUD-DONKEY-686B\")}\n",
    "# reload = {}\n",
    "# ---------------------------------------------------------------------------\n",
    "\n",
    "# ---------------------------------------------------------------------------\n",
    "for method in include: \n",
    "    if method in exclude: \n",
    "        continue\n",
    "    if method in reload and method in stats:\n",
    "        del stats[method]\n",
    "    if method in stats:\n",
    "        continue\n",
    "    print(f\"---------{method}----------\")\n",
    "    pickles, _ = load_tracker_data(method)\n",
    "    stats[method] = defaultdict(list)\n",
    "    for pickle in pickles: \n",
    "        stats[method][\"cases\"].append(pickle[\"cases_per_day\"])\n",
    "        stats[method][\"infected\"].append(sum(pickle[\"cases_per_day\"]))\n",
    "        stats[method][\"effective_contacts\"].append(pickle[\"effective_contacts_since_intervention\"])\n",
    "        stats[method][\"expected_mobility\"].append(pickle[\"expected_mobility\"])\n",
    "        stats[method][\"rec_level\"].append(pickle[\"humans_intervention_level\"])\n",
    "        stats[method][\"outside_daily_contacts\"].append(pickle[\"outside_daily_contacts\"])\n",
    "        stats[method][\"outside_daily_contacts\"].append(pickle[\"outside_daily_contacts\"])\n",
    "        stats[method][\"outside_effective_contacts\"].append(np.mean(pickle[\"outside_daily_contacts\"][pickle[\"intervention_day\"]:]))\n",
    "    del pickles"
   ]
  },
  {
   "cell_type": "code",
   "execution_count": 113,
   "metadata": {},
   "outputs": [
    {
     "data": {
      "image/png": "[encoded data removed]",
      "text/plain": [
       "<Figure size 720x432 with 1 Axes>"
      ]
     },
     "metadata": {},
     "output_type": "display_data"
    }
   ],
   "source": [
    "# ------------------------------CONTROL PANEL--------------------------------\n",
    "\n",
    "labels = {\n",
    "    UNMITIGATED: \"Unmitigated\",\n",
    "    BDT1: \"BDT1\", \n",
    "    BDT2: \"BDT2\", \n",
    "    TRANSFORMER(\"AVID-WAVE-652B\"): \"Transformer\", \n",
    "    TRANSFORMER(\"PROUD-DONKEY-686A\"): \"Forward-Transformer (O)\", \n",
    "    TRANSFORMER(\"PROUD-DONKEY-686B\"): \"Forward-Transformer\", \n",
    "    TRANSFORMER(\"SCARLET-DAWN-653A\"): \"LR\",\n",
    "    TRANSFORMER(\"OLIVE-PLANT-687A\"): \"Forward-LR\",\n",
    "    ORACLE: \"Oracle\",\n",
    "}\n",
    "\n",
    "exclude = []\n",
    "# include = METHODS\n",
    "include = [\n",
    "#     TRANSFORMER(\"OLIVE-PLANT-687A\"), \n",
    "#     TRANSFORMER(\"SCARLET-DAWN-653A\"), \n",
    "    TRANSFORMER(\"AVID-WAVE-652B\"), \n",
    "    TRANSFORMER(\"PROUD-DONKEY-686A\"), \n",
    "#     TRANSFORMER(\"PROUD-DONKEY-686B\"), \n",
    "    BDT1, \n",
    "    ORACLE,\n",
    "]\n",
    "\n",
    "plot_type = \"scatter\"\n",
    "kde_alpha = 0.7\n",
    "\n",
    "x_key = \"outside_effective_contacts\"\n",
    "y_key = \"infected\"\n",
    "# ---------------------------------------------------------------------------\n",
    "\n",
    "# ---------------------------------------------------------------------------\n",
    "plt.figure(figsize=(10, 6))\n",
    "ax = plt.gca()\n",
    "for method, stat in stats.items(): \n",
    "    if method in exclude or method not in include: \n",
    "        continue\n",
    "    if plot_type == \"kde\":\n",
    "        sns.kdeplot(stat[x_key], stat[y_key], ax=ax, \n",
    "                    label=labels[method], shade=True, \n",
    "                    alpha=kde_alpha, shade_lowest=False)\n",
    "    elif plot_type == \"scatter\":\n",
    "        plt.scatter(stat[x_key], stat[y_key], \n",
    "                label=labels[method])\n",
    "plt.xlabel(x_key.replace(\"_\", \" \").title())\n",
    "plt.ylabel(y_key.replace(\"_\", \" \").title())\n",
    "plt.legend()\n",
    "plt.title(\"Uptake = 84.15%\")\n",
    "plt.show()"
   ]
  },
  {
   "cell_type": "code",
   "execution_count": 115,
   "metadata": {},
   "outputs": [
    {
     "name": "stdout",
     "output_type": "stream",
     "text": [
      "Method: Oracle >> \n",
      "Infected/Outside Effective Contacts (Mean)    : 117.5180\n",
      "Infected/Outside Effective Contacts (Std)     : 17.6423\n",
      "Infected/Outside Effective Contacts (Median)  : 110.6460\n",
      "Method: Transformer >> \n",
      "Infected/Outside Effective Contacts (Mean)    : 154.2714\n",
      "Infected/Outside Effective Contacts (Std)     : 24.4237\n",
      "Infected/Outside Effective Contacts (Median)  : 157.5730\n",
      "Method: BDT1 >> \n",
      "Infected/Outside Effective Contacts (Mean)    : 156.5481\n",
      "Infected/Outside Effective Contacts (Std)     : 25.9473\n",
      "Infected/Outside Effective Contacts (Median)  : 162.8571\n",
      "Method: Forward-Transformer (O) >> \n",
      "Infected/Outside Effective Contacts (Mean)    : 142.7678\n",
      "Infected/Outside Effective Contacts (Std)     : 24.5790\n",
      "Infected/Outside Effective Contacts (Median)  : 139.7023\n"
     ]
    }
   ],
   "source": [
    "# ------------------------------CONTROL PANEL--------------------------------\n",
    "plot_type = \"print\"\n",
    "\n",
    "kde_alpha = 1.0\n",
    "kde_shade = False\n",
    "# ---------------------------------------------------------------------------\n",
    "\n",
    "# ---------------------------------------------------------------------------\n",
    "pretty_x = x_key.replace(\"_\", \" \").title()\n",
    "pretty_y = y_key.replace(\"_\", \" \").title()\n",
    "\n",
    "if plot_type != \"print\": \n",
    "    plt.figure(figsize=(10, 6))\n",
    "for method in stats: \n",
    "    if method in exclude or method not in include:\n",
    "        continue\n",
    "    ratio = np.array(stats[method][y_key]) / np.array(stats[method][x_key])\n",
    "    if plot_type == \"print\":\n",
    "        print(f\"Method: {labels[method]} >> \")\n",
    "        print(f\"{pretty_y}/{pretty_x} (Mean)    : {ratio.mean():.4f}\")\n",
    "        print(f\"{pretty_y}/{pretty_x} (Std)     : {ratio.std():.4f}\")\n",
    "        print(f\"{pretty_y}/{pretty_x} (Median)  : {np.median(ratio):.4f}\")\n",
    "    elif plot_type == \"hist\": \n",
    "        plt.hist(ratio, label=labels[method], alpha=0.6)\n",
    "    elif plot_type == \"kde\": \n",
    "        sns.kdeplot(ratio, label=labels[method], alpha=kde_alpha, shade=kde_shade)\n",
    "if plot_type != \"print\": \n",
    "    plt.xlabel(f\"{pretty_y} / {pretty_x}\")\n",
    "    plt.legend()\n",
    "    plt.show()\n",
    "    "
   ]
  },
  {
   "cell_type": "code",
   "execution_count": null,
   "metadata": {},
   "outputs": [],
   "source": []
  },
  {
   "cell_type": "code",
   "execution_count": null,
   "metadata": {},
   "outputs": [],
   "source": []
  }
 ],
 "metadata": {
  "kernelspec": {
   "display_name": "Python 3",
   "language": "python",
   "name": "python3"
  },
  "language_info": {
   "codemirror_mode": {
    "name": "ipython",
    "version": 3
   },
   "file_extension": ".py",
   "mimetype": "text/x-python",
   "name": "python",
   "nbconvert_exporter": "python",
   "pygments_lexer": "ipython3",
   "version": "3.7.7"
  }
 },
 "nbformat": 4,
 "nbformat_minor": 4
}
