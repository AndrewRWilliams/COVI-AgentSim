{
 "cells": [
  {
   "cell_type": "code",
   "execution_count": null,
   "metadata": {},
   "outputs": [],
   "source": [
    "import pickle\n",
    "import os\n",
    "import glob\n",
    "from functools import reduce\n",
    "import copy\n",
    "import pdb\n",
    "import zipfile\n",
    "\n",
    "from addict import Dict\n",
    "import numpy as np\n",
    "import networkx as nx\n",
    "from datetime import datetime\n",
    "from uncertainties import ufloat\n",
    "from persistqueue import PDict\n",
    "\n",
    "import matplotlib.pyplot as plt\n",
    "import seaborn as sns\n",
    "sns.set()\n",
    "\n",
    "import graph_utils as utils"
   ]
  },
  {
   "cell_type": "markdown",
   "metadata": {},
   "source": [
    "## Data Logistics"
   ]
  },
  {
   "cell_type": "code",
   "execution_count": 489,
   "metadata": {},
   "outputs": [],
   "source": [
    "EXPERIMENTS_V3 = {\n",
    "    \"ORACLE0\": \"../src/covid19sim/output/sim_v2_people-200_days-30_init-0.02_uptake--1_seed-3000_20200610-165842_298000\",\n",
    "    \"ORACLE1\": \"../src/covid19sim/output/sim_v2_people-200_days-30_init-0.02_uptake--1_seed-3001_20200610-174035_641000\",\n",
    "    \"ORACLE2\": \"../src/covid19sim/output/sim_v2_people-200_days-30_init-0.02_uptake--1_seed-3002_20200610-174750_479000\",\n",
    "    \"BDTA0\": \"../src/covid19sim/output/sim_v2_people-200_days-30_init-0.02_uptake--1_seed-3000_20200610-195546_899000\",\n",
    "    \"BDTB0\": \"../src/covid19sim/output/sim_v2_people-200_days-30_init-0.02_uptake--1_seed-3000_20200610-200618_058000\",\n",
    "    \"RADRES0\": \"../src/covid19sim/output/sim_v2_people-200_days-30_init-0.02_uptake--1_seed-3000_20200610-202435_309000\",\n",
    "    \"MILSOUA0\": \"../src/covid19sim/output/sim_v2_people-200_days-30_init-0.02_uptake--1_seed-3000_20200610-210656_403000\",\n",
    "    \"ETERESA0\": \"../src/covid19sim/output/sim_v2_people-200_days-30_init-0.02_uptake--1_seed-3000_20200610-221201_832000\",\n",
    "    \"ETERESA3\": \"../src/covid19sim/output/sim_v2_people-200_days-30_init-0.02_uptake-0.8415_seed-3000_20200611-003800_745000\",\n",
    "    \"ORACLE3\": \"../src/covid19sim/output/sim_v2_people-200_days-30_init-0.02_uptake-0.8415_seed-3000_20200611-005556_650000\",\n",
    "    \"BDTA3\": \"../src/covid19sim/output/sim_v2_people-200_days-30_init-0.02_uptake-0.8415_seed-3000_20200611-011725_880000\",\n",
    "}"
   ]
  },
  {
   "cell_type": "code",
   "execution_count": 654,
   "metadata": {},
   "outputs": [],
   "source": [
    "RISK_MODEL = \"ETERESA0\"\n",
    "\n",
    "data_config = Dict()\n",
    "data_config.root_dir = EXPERIMENTS_V3[RISK_MODEL]\n",
    "data_config.pdict_dir = \"./pdicts\""
   ]
  },
  {
   "cell_type": "code",
   "execution_count": 655,
   "metadata": {},
   "outputs": [
    {
     "data": {
      "text/plain": [
       "'../src/covid19sim/output/sim_v2_people-200_days-30_init-0.02_uptake--1_seed-3000_20200610-221201_832000'"
      ]
     },
     "execution_count": 655,
     "metadata": {},
     "output_type": "execute_result"
    }
   ],
   "source": [
    "data_config.root_dir"
   ]
  },
  {
   "cell_type": "code",
   "execution_count": 656,
   "metadata": {},
   "outputs": [],
   "source": [
    "def load_logs(config=None):\n",
    "    config = config or data_config\n",
    "    # Read files in log dir and sort them by time\n",
    "    archive_path = os.path.join(config.root_dir, \"data.zip\")\n",
    "    with zipfile.ZipFile(archive_path, mode=\"r\") as zf: \n",
    "        files = sorted(zf.namelist())\n",
    "        # Load 'em up\n",
    "        logs = []\n",
    "        for file in files: \n",
    "            with zf.open(file, \"r\") as f: \n",
    "                logs.extend(pickle.load(f))\n",
    "        return logs"
   ]
  },
  {
   "cell_type": "code",
   "execution_count": 657,
   "metadata": {},
   "outputs": [],
   "source": [
    "def load_human_day(day_idx, human_idx, config=None): \n",
    "    config = config or data_config\n",
    "    path = os.path.join(config.root_dir, \"daily_outputs\", \n",
    "                        str(day_idx), str(human_idx), \n",
    "                        \"daily_human.pkl\")\n",
    "    with open(path, \"rb\") as f: \n",
    "        info = pickle.load(f)\n",
    "    return info"
   ]
  },
  {
   "cell_type": "code",
   "execution_count": 658,
   "metadata": {},
   "outputs": [],
   "source": [
    "def get_encounter_logs(logs=None): \n",
    "    logs = load_logs() if logs is None else logs\n",
    "    encounter_logs = [log for log in logs if log[\"event_type\"] == \"encounter\"]\n",
    "    return encounter_logs\n",
    "\n",
    "def get_daily_logs(logs=None): \n",
    "    logs = load_logs() if logs is None else logs\n",
    "    daily_logs = [log for log in logs if log[\"event_type\"] == \"daily\"]\n",
    "    return daily_logs"
   ]
  },
  {
   "cell_type": "code",
   "execution_count": 659,
   "metadata": {},
   "outputs": [],
   "source": [
    "def get_human_profiles(logs=None): \n",
    "    logs = load_logs() if logs is None else logs\n",
    "    profile_logs = [log for log in logs if log[\"event_type\"] == \"static_info\"]\n",
    "    profile_logs = {log[\"human_id\"]: log[\"payload\"][\"unobserved\"] for log in profile_logs}\n",
    "    return profile_logs"
   ]
  },
  {
   "cell_type": "code",
   "execution_count": 660,
   "metadata": {},
   "outputs": [],
   "source": [
    "logs = load_logs()\n",
    "encounter_logs = get_encounter_logs(logs)\n",
    "\n",
    "profiles = get_human_profiles(logs)"
   ]
  },
  {
   "cell_type": "markdown",
   "metadata": {},
   "source": [
    "## Construct an Encounter Graph\n",
    "\n",
    "Encounter graph is a multigraph, where nodes are humans and edges are encounters between humans. Human may have multiple encounters with each other, which is why we have a multi-graph at hand. "
   ]
  },
  {
   "cell_type": "code",
   "execution_count": 661,
   "metadata": {},
   "outputs": [],
   "source": [
    "def make_encounter_graph(encounter_logs=None): \n",
    "    encounter_logs = encounter_logs or get_encounter_logs()\n",
    "    encounter_graph = nx.MultiDiGraph()\n",
    "    for encounter_log in encounter_logs: \n",
    "        # Ids\n",
    "        human1_id = encounter_log[\"payload\"][\"unobserved\"][\"human1\"][\"human_id\"]\n",
    "        human2_id = encounter_log[\"payload\"][\"unobserved\"][\"human2\"][\"human_id\"]\n",
    "        # Write states\n",
    "        human1_state = Dict()\n",
    "        human2_state = Dict()\n",
    "        # Infection status\n",
    "        human1_state.is_infected = encounter_log[\"payload\"][\"unobserved\"][\"human1\"][\"infection_timestamp\"] is not None\n",
    "        human2_state.is_infected = encounter_log[\"payload\"][\"unobserved\"][\"human2\"][\"infection_timestamp\"] is not None\n",
    "        human1_state.got_exposed = encounter_log[\"payload\"][\"unobserved\"][\"human1\"][\"got_exposed\"]\n",
    "        human2_state.got_exposed = encounter_log[\"payload\"][\"unobserved\"][\"human2\"][\"got_exposed\"]\n",
    "        human1_state.caused_exposure = encounter_log[\"payload\"][\"unobserved\"][\"human1\"][\"exposed_other\"]\n",
    "        human2_state.caused_exposure = encounter_log[\"payload\"][\"unobserved\"][\"human2\"][\"exposed_other\"]\n",
    "        # Health and symptoms\n",
    "        human1_state.symptoms = encounter_log[\"payload\"][\"unobserved\"][\"human1\"][\"symptoms\"]\n",
    "        human2_state.symptoms = encounter_log[\"payload\"][\"unobserved\"][\"human2\"][\"symptoms\"]\n",
    "        # ---WIP---\n",
    "        # human1_state.reported_symptoms = encounter_log[\"payload\"][\"unobserved\"][\"human1\"][\"symptoms\"]\n",
    "        # human2_state.reported_symptoms = encounter_log[\"payload\"][\"unobserved\"][\"human2\"][\"symptoms\"]\n",
    "        # ---WIP---\n",
    "        human1_state.infectiousness = encounter_log[\"payload\"][\"unobserved\"][\"human1\"][\"infectiousness\"]\n",
    "        human2_state.infectiousness = encounter_log[\"payload\"][\"unobserved\"][\"human2\"][\"infectiousness\"]\n",
    "        # Risk\n",
    "        human1_state.risk = encounter_log[\"payload\"][\"unobserved\"][\"human1\"][\"risk\"]\n",
    "        human2_state.risk = encounter_log[\"payload\"][\"unobserved\"][\"human2\"][\"risk\"]\n",
    "        human1_state.risk_level = encounter_log[\"payload\"][\"unobserved\"][\"human1\"][\"risk_level\"]\n",
    "        human2_state.risk_level = encounter_log[\"payload\"][\"unobserved\"][\"human2\"][\"risk_level\"]\n",
    "        # Recommendations\n",
    "        human1_state.rec_level = encounter_log[\"payload\"][\"unobserved\"][\"human1\"][\"rec_level\"]\n",
    "        human2_state.rec_level = encounter_log[\"payload\"][\"unobserved\"][\"human2\"][\"rec_level\"]\n",
    "        # Locations\n",
    "        try:\n",
    "            human1_state.location_type = encounter_log[\"payload\"][\"observed\"][\"location_type\"]\n",
    "            human2_state.location_type = encounter_log[\"payload\"][\"observed\"][\"location_type\"]\n",
    "        except KeyError: \n",
    "            human1_state.location_type = encounter_log[\"payload\"][\"unobserved\"][\"location_type\"]\n",
    "            human2_state.location_type = encounter_log[\"payload\"][\"unobserved\"][\"location_type\"]\n",
    "        try:\n",
    "            human1_state.same_household = encounter_log[\"payload\"][\"observed\"][\"human1\"][\"same_household\"]\n",
    "            human2_state.same_household = encounter_log[\"payload\"][\"observed\"][\"human2\"][\"same_household\"]\n",
    "        except KeyError:\n",
    "            human1_state.same_household = encounter_log[\"payload\"][\"unobserved\"][\"human1\"][\"same_household\"]\n",
    "            human2_state.same_household = encounter_log[\"payload\"][\"unobserved\"][\"human2\"][\"same_household\"]\n",
    "        # Write stuff out\n",
    "        encounter_graph.add_edge(human1_id, human2_id, encounter_log[\"time\"], \n",
    "                                 human1_state=human1_state, human2_state=human2_state)\n",
    "    return encounter_graph"
   ]
  },
  {
   "cell_type": "markdown",
   "metadata": {},
   "source": [
    "The `filter_encounter_graph` function makes a new encounter graph from an existing one by keeping only the encounters that happen between the specified time limits (and removing all other encounters). "
   ]
  },
  {
   "cell_type": "code",
   "execution_count": 662,
   "metadata": {},
   "outputs": [],
   "source": [
    "def filter_encounter_graph(graph, from_time, to_time): \n",
    "    filtered = nx.MultiDiGraph()\n",
    "    filtered.add_nodes_from(graph.nodes)\n",
    "    for h1, h2, time in graph.edges: \n",
    "        if from_time <= time <= to_time: \n",
    "            filtered.add_edge(h1, h2, time, **graph.edges[h1, h2, time])\n",
    "    return filtered"
   ]
  },
  {
   "cell_type": "markdown",
   "metadata": {},
   "source": [
    "The `remove_encounter_graph_nodes` function removes nodes (and all edges) in the graph depending on a `condition_fn`. The `condition_fn` takes as input `human1_state` and `human2_state`, and outputs a bool saying if the condition is satisfied. For a given `human1` and for `reduction=\"and\"`, if the condition is satisfied for all encounters with all encounter partners, the `human1` is marked for removal. Likewise, if `reduction=\"or\"`, the human is marked for removal if the condition is satisfied for any encounter with any partner. `reduction` can also be a lambda. "
   ]
  },
  {
   "cell_type": "code",
   "execution_count": 663,
   "metadata": {},
   "outputs": [],
   "source": [
    "def remove_encounter_graph_nodes(graph, condition_fn, reduction=(lambda x, y: x and y)): \n",
    "    # Validate inputs\n",
    "    assert callable(condition_fn)\n",
    "    if isinstance(reduction, str): \n",
    "        if reduction == \"and\": \n",
    "            reduction = lambda x, y: x and y\n",
    "        elif reduction == \"or\":\n",
    "            reduction = lambda x, y: x or y\n",
    "        else:\n",
    "            raise ValueError\n",
    "    assert callable(reduction)\n",
    "    # Go\n",
    "    node_condition_mapping = Dict()\n",
    "    for node in graph.nodes: \n",
    "        conditions = []\n",
    "        for neighbor in graph[node]: \n",
    "            for keys in graph[node][neighbor]: \n",
    "                conditions.append(condition_fn(**graph[node][neighbor][keys]))\n",
    "        # pdb.set_trace()\n",
    "        reduce(reduction, conditions)\n",
    "        assert node not in node_condition_mapping\n",
    "        node_condition_mapping[node] = reduce(reduction, conditions)\n",
    "    nodes_to_remove = [node for node, cond in node_condition_mapping.items() if cond]\n",
    "    trimmed = copy.deepcopy(graph)\n",
    "    trimmed.remove_nodes_from(nodes_to_remove)\n",
    "    return trimmed"
   ]
  },
  {
   "cell_type": "markdown",
   "metadata": {},
   "source": [
    "`filter_edges` keeps an edge only if `condition_fn(time, human1_state, human2_state)` returns True. "
   ]
  },
  {
   "cell_type": "code",
   "execution_count": 664,
   "metadata": {},
   "outputs": [],
   "source": [
    "def filter_edges(graph, condition_fn): \n",
    "    assert callable(condition_fn)\n",
    "    trimmed = nx.MultiDiGraph()\n",
    "    for u, v, d in graph.edges: \n",
    "        if condition_fn(d, **graph[u][v][d]): \n",
    "            trimmed.add_edge(u, v, d, **graph[u][v][d])\n",
    "    return trimmed"
   ]
  },
  {
   "cell_type": "markdown",
   "metadata": {
    "pycharm": {
     "name": "#%% md\n"
    }
   },
   "source": [
    "`collate_edges` summarizes multiple edges to a single edge with a `collate_fn`. The `collate_fn` takes as input all edges between any two nodes. "
   ]
  },
  {
   "cell_type": "code",
   "execution_count": 665,
   "metadata": {
    "pycharm": {
     "name": "#%%\n"
    }
   },
   "outputs": [],
   "source": [
    "def collate_edges(graph, collate_fn): \n",
    "    trimmed = nx.MultiDiGraph()\n",
    "    for u in graph.nodes: \n",
    "        for v in graph[u]: \n",
    "            new_d, new_attries = collate_fn(graph[u][v])\n",
    "            trimmed.add_edge(u, v, new_d, **new_attries)\n",
    "    return trimmed"
   ]
  },
  {
   "cell_type": "code",
   "execution_count": 666,
   "metadata": {
    "pycharm": {
     "name": "#%%\n"
    }
   },
   "outputs": [],
   "source": [
    "def to_digraph(graph, attry_extractor=(lambda human1_state, human2_state: {})): \n",
    "    digraph = nx.DiGraph()\n",
    "    for u in graph: \n",
    "        for v in graph[u]: \n",
    "            assert len(graph[u][v]) == 1\n",
    "            time = list(graph[u][v].keys())[0]\n",
    "            extra_attries = attry_extractor(**graph[u][v][time])\n",
    "            digraph.add_edge(u, v, time=time, **extra_attries)\n",
    "    return digraph\n",
    "\n",
    "\n",
    "def to_concat_digraph(graph, attry_extractor=(lambda human1_state, human2_state: {})):\n",
    "    digraph = nx.DiGraph()\n",
    "    for u in graph: \n",
    "        for v in graph[u]: \n",
    "            attry_dicts = [attry_extractor(**graph[u][v][time]) for time in graph[u][v].keys()]\n",
    "            concat_attry_dict = {key: [d[key] for d in attry_dicts] for key in attry_dicts[0].keys()}\n",
    "            concat_attry_dict.update({\"time\": list(graph[u][v].keys())})\n",
    "            digraph.add_edge(u, v, **concat_attry_dict)\n",
    "    return digraph"
   ]
  },
  {
   "cell_type": "code",
   "execution_count": 667,
   "metadata": {},
   "outputs": [],
   "source": [
    "def find_encounters(graph, human_id, interval_start, interval_stop): \n",
    "    encounters = nx.MultiDiGraph()\n",
    "    for u, v, d in graph.edges: \n",
    "        if u == human_id and interval_start <= d <= interval_stop: \n",
    "            encounters.add_edge(u, v, d, **graph.edges[u, v, d])\n",
    "    return encounters\n",
    "\n",
    "def extract_sequence(graph, human_id, attry_extractor=(lambda d: d), start=None): \n",
    "    sequence = []\n",
    "    for u, v, d in graph.edges: \n",
    "        if u == human_id: \n",
    "            sequence.append((d, attry_extractor(graph.edges[u, v, d])))\n",
    "    sequence = sorted(sequence, key=lambda x: x[0])\n",
    "    if start is not None: \n",
    "        sequence = [((t - start).seconds, d) for t, d in sequence]\n",
    "    return sequence"
   ]
  },
  {
   "cell_type": "markdown",
   "metadata": {
    "pycharm": {
     "name": "#%% md\n"
    }
   },
   "source": [
    "### Functional Filters"
   ]
  },
  {
   "cell_type": "markdown",
   "metadata": {},
   "source": [
    "It should be able to manipulate the graph with just these filters."
   ]
  },
  {
   "cell_type": "code",
   "execution_count": 668,
   "metadata": {},
   "outputs": [],
   "source": [
    "# Node removal\n",
    "def is_not_infected(human1_state, human2_state): \n",
    "    return not human1_state[\"is_infected\"]\n",
    "\n",
    "# Edge filtering\n",
    "def is_contagion(time, human1_state, human2_state): \n",
    "    return human2_state[\"got_exposed\"]\n",
    "\n",
    "def is_contagion_without_symptoms(time, human1_state, human2_state): \n",
    "    return (is_contagion(time, human1_state, human2_state) and \n",
    "            len(human1_state[\"symptoms\"]) == 0)\n",
    "\n",
    "def is_contagion_with_symptoms(time, human1_state, human2_state): \n",
    "    return (is_contagion(time, human1_state, human2_state) and \n",
    "            len(human1_state[\"symptoms\"]) > 0)\n",
    "\n",
    "# Collating\n",
    "def keep_most_recent(edge_spec): \n",
    "    most_recent_date = max(list(edge_spec.keys()))\n",
    "    most_recent_attries = edge_spec[most_recent_date]\n",
    "    return most_recent_date, most_recent_attries\n",
    "\n",
    "def keep_least_recent(edge_spec): \n",
    "    least_recent_date = min(list(edge_spec.keys()))\n",
    "    least_recent_attries = edge_spec[least_recent_date]\n",
    "    return least_recent_date, least_recent_attries"
   ]
  },
  {
   "cell_type": "markdown",
   "metadata": {},
   "source": [
    "### Utils"
   ]
  },
  {
   "cell_type": "code",
   "execution_count": 669,
   "metadata": {},
   "outputs": [],
   "source": [
    "def histogram_partition(x, nbin):\n",
    "    size = len(x)\n",
    "    sorted_x = np.sort(x)\n",
    "    return sorted_x[::size//nbin]\n",
    "    "
   ]
  },
  {
   "cell_type": "markdown",
   "metadata": {
    "pycharm": {
     "name": "#%% md\n"
    }
   },
   "source": [
    "## Playtime"
   ]
  },
  {
   "cell_type": "code",
   "execution_count": 670,
   "metadata": {},
   "outputs": [],
   "source": [
    "encounter_graph = make_encounter_graph(encounter_logs)"
   ]
  },
  {
   "cell_type": "code",
   "execution_count": 671,
   "metadata": {},
   "outputs": [],
   "source": [
    "INTERVAL_START = datetime(2020, 2, 28)\n",
    "INTERVAL_STOP = datetime(2020, 3, 29)\n",
    "eg_at_interval = filter_encounter_graph(encounter_graph, INTERVAL_START, INTERVAL_STOP)"
   ]
  },
  {
   "cell_type": "code",
   "execution_count": 672,
   "metadata": {},
   "outputs": [],
   "source": [
    "contagion_graph = filter_edges(eg_at_interval, is_contagion)"
   ]
  },
  {
   "cell_type": "code",
   "execution_count": 673,
   "metadata": {},
   "outputs": [
    {
     "name": "stdout",
     "output_type": "stream",
     "text": [
      "Num Nodes in CG: 13\n",
      "Num Edges in CG: 8\n"
     ]
    }
   ],
   "source": [
    "print(f\"Num Nodes in CG: {len(contagion_graph.nodes)}\")\n",
    "print(f\"Num Edges in CG: {len(contagion_graph.edges)}\")"
   ]
  },
  {
   "cell_type": "code",
   "execution_count": 674,
   "metadata": {},
   "outputs": [
    {
     "name": "stdout",
     "output_type": "stream",
     "text": [
      "human:20 --> human:93 :: \n",
      "Time: 2020-03-01 23:28:00, Infectiousness: 0.077, Risk: 0.0100000, RiskLev: 0, RecLev: -1, Symptoms: False, LocType: household(S)\n",
      "\n",
      "human:187 --> human:188 :: \n",
      "Time: 2020-03-05 13:33:00, Infectiousness: 0.316, Risk: 0.0381544, RiskLev: 3, RecLev: 1, Symptoms: False, LocType: household(S)\n",
      "\n",
      "human:20 --> human:91 :: \n",
      "Time: 2020-03-09 06:21:00, Infectiousness: 0.204, Risk: 0.0857908, RiskLev: 7, RecLev: 3, Symptoms: True, LocType: household(S)\n",
      "\n",
      "human:114 --> human:113 :: \n",
      "Time: 2020-03-13 03:28:00, Infectiousness: 0.136, Risk: 0.0149860, RiskLev: 1, RecLev: 0, Symptoms: False, LocType: household(S)\n",
      "\n",
      "human:14 --> human:70 :: \n",
      "Time: 2020-03-13 06:30:00, Infectiousness: 0.190, Risk: 0.1240240, RiskLev: 9, RecLev: 3, Symptoms: True, LocType: household(S)\n",
      "\n",
      "human:114 --> human:139 :: \n",
      "Time: 2020-03-13 07:21:00, Infectiousness: 0.158, Risk: 0.0149860, RiskLev: 1, RecLev: 0, Symptoms: False, LocType: workplace\n",
      "\n",
      "human:114 --> human:112 :: \n",
      "Time: 2020-03-14 08:50:00, Infectiousness: 0.305, Risk: 0.0095709, RiskLev: 0, RecLev: 0, Symptoms: False, LocType: household(S)\n",
      "\n",
      "human:55 --> human:44 :: \n",
      "Time: 2020-03-15 13:26:00, Infectiousness: 0.127, Risk: 0.0071253, RiskLev: 0, RecLev: 0, Symptoms: False, LocType: household(S)\n",
      "\n",
      "-----------\n",
      "\n",
      "human:14 : {'preexisting_conditions': [], 'age': 8, 'sex': 'female', 'is_healthcare_worker': False}\n",
      "human:70 : {'preexisting_conditions': ['pregnant'], 'age': 23, 'sex': 'female', 'is_healthcare_worker': False}\n",
      "human:20 : {'preexisting_conditions': [], 'age': 3, 'sex': 'female', 'is_healthcare_worker': False}\n",
      "human:91 : {'preexisting_conditions': [], 'age': 36, 'sex': 'male', 'is_healthcare_worker': False}\n",
      "human:93 : {'preexisting_conditions': ['smoker', 'pregnant'], 'age': 31, 'sex': 'female', 'is_healthcare_worker': False}\n",
      "human:55 : {'preexisting_conditions': ['pregnant'], 'age': 23, 'sex': 'female', 'is_healthcare_worker': False}\n",
      "human:44 : {'preexisting_conditions': [], 'age': 24, 'sex': 'male', 'is_healthcare_worker': False}\n",
      "human:187 : {'preexisting_conditions': [], 'age': 79, 'sex': 'other', 'is_healthcare_worker': False}\n",
      "human:188 : {'preexisting_conditions': [], 'age': 78, 'sex': 'female', 'is_healthcare_worker': False}\n",
      "human:114 : {'preexisting_conditions': [], 'age': 44, 'sex': 'male', 'is_healthcare_worker': False}\n",
      "human:112 : {'preexisting_conditions': [], 'age': 49, 'sex': 'male', 'is_healthcare_worker': False}\n",
      "human:113 : {'preexisting_conditions': ['diabetes', 'asthma', 'immuno-suppressed', 'lung_disease', 'pregnant'], 'age': 49, 'sex': 'female', 'is_healthcare_worker': False}\n",
      "human:139 : {'preexisting_conditions': ['diabetes'], 'age': 51, 'sex': 'male', 'is_healthcare_worker': False}\n"
     ]
    }
   ],
   "source": [
    "VERBOSE = True\n",
    "for u, v, d in sorted(contagion_graph.edges, key=lambda x: x[-1]): \n",
    "    if VERBOSE:\n",
    "        attries = contagion_graph.edges[u, v, d]\n",
    "        print(f\"{u} --> {v} :: \\nTime: {d}, \"\n",
    "              f\"Infectiousness: {attries['human1_state']['infectiousness']:.3f}, \"\n",
    "              f\"Risk: {attries['human1_state']['risk']:.7f}, \"\n",
    "              f\"RiskLev: {attries['human1_state']['risk_level']}, \"\n",
    "              f\"RecLev: {attries['human1_state']['rec_level']}, \"\n",
    "              f\"Symptoms: {len(attries['human1_state']['symptoms']) > 0}, \"\n",
    "              f\"LocType: {attries['human1_state']['location_type']}{'(S)' if attries['human1_state']['same_household'] else ''}\\n\")\n",
    "print(\"-----------\\n\")\n",
    "for u in contagion_graph.nodes: \n",
    "    if VERBOSE:\n",
    "        print(f\"{u} : {profiles[u]}\")"
   ]
  },
  {
   "cell_type": "code",
   "execution_count": 675,
   "metadata": {
    "pycharm": {
     "name": "#%%\n"
    }
   },
   "outputs": [],
   "source": [
    "contagion_digraph = to_digraph(contagion_graph, \n",
    "                               lambda human1_state, human2_state: dict(exposer_risk=human1_state[\"risk\"], \n",
    "                                                                       exposer_risk_level=human1_state[\"risk_level\"], \n",
    "                                                                       exposer_rec_level=human1_state[\"rec_level\"]))"
   ]
  },
  {
   "cell_type": "code",
   "execution_count": 676,
   "metadata": {},
   "outputs": [],
   "source": [
    "encounter_digraph = to_concat_digraph(eg_at_interval, \n",
    "                                      lambda human1_state, human2_state: dict(exposer_risk=human1_state[\"risk\"], \n",
    "                                                                              exposer_risk_level=human1_state[\"risk_level\"], \n",
    "                                                                              exposer_rec_level=human1_state[\"rec_level\"]))"
   ]
  },
  {
   "cell_type": "markdown",
   "metadata": {},
   "source": [
    "### Bias Check"
   ]
  },
  {
   "cell_type": "code",
   "execution_count": 677,
   "metadata": {},
   "outputs": [],
   "source": [
    "days, infectiousnesses, risks = [], [], []\n",
    "for u, v, d in encounter_graph.edges: \n",
    "    days.append((d - INTERVAL_START).days)\n",
    "    infectiousnesses.append(encounter_graph.edges[u, v, d][\"human1_state\"][\"infectiousness\"])\n",
    "    risks.append(encounter_graph.edges[u, v, d][\"human1_state\"][\"risk\"])\n",
    "    #risks_levels.append(encounter_graph.edges[u, v, d][\"human1_state\"][\"risk_level\"])\n",
    "\n",
    "infectiousnesses = np.array(infectiousnesses)\n",
    "risks = np.array(risks)\n",
    "days = np.array(days)\n",
    "# risk_levels = np.array(risk_levels)"
   ]
  },
  {
   "cell_type": "code",
   "execution_count": 678,
   "metadata": {},
   "outputs": [
    {
     "data": {
      "image/png": "[encoded data removed]",
      "text/plain": [
       "<Figure size 432x288 with 1 Axes>"
      ]
     },
     "metadata": {},
     "output_type": "display_data"
    }
   ],
   "source": [
    "plt.figure()\n",
    "cpal = sns.color_palette()\n",
    "plt.hist(risks[np.logical_and(infectiousnesses > 0, risks <= 1)], bins=50, color=cpal[0], density=True, alpha=0.7)\n",
    "plt.hist(risks[np.logical_and(infectiousnesses == 0, risks <= 1)], bins=50, color=cpal[1], density=True, alpha=0.7)\n",
    "plt.show()"
   ]
  },
  {
   "cell_type": "code",
   "execution_count": 679,
   "metadata": {},
   "outputs": [],
   "source": [
    "# plt.figure()\n",
    "# sns.scatterplot(x=infectiousnesses, y=risks, hue=days)\n",
    "# plt.plot([0, 0.4], [0, 0.4], c=\"gray\", linestyle=\"--\")\n",
    "# plt.xlabel(\"Infectiousness\")\n",
    "# plt.ylabel(\"Risk\")\n",
    "# plt.show()"
   ]
  },
  {
   "cell_type": "code",
   "execution_count": 680,
   "metadata": {},
   "outputs": [
    {
     "name": "stdout",
     "output_type": "stream",
     "text": [
      "MSE Between Infectiousness and Risks:\n",
      "0.03686595213058319\n"
     ]
    }
   ],
   "source": [
    "print(\"MSE Between Infectiousness and Risks:\")\n",
    "print(np.sqrt(np.power(np.array(infectiousnesses) - np.array(risks), 2).mean()))"
   ]
  },
  {
   "cell_type": "markdown",
   "metadata": {},
   "source": [
    "### Infection Chains\n",
    "\n",
    "The following plots show the infection trees together with the risk level of infectors at the time of infection. "
   ]
  },
  {
   "cell_type": "code",
   "execution_count": 681,
   "metadata": {
    "collapsed": false,
    "jupyter": {
     "outputs_hidden": false
    },
    "pycharm": {
     "name": "#%%\n"
    }
   },
   "outputs": [],
   "source": [
    "contagion_subgraphs = [contagion_digraph.subgraph(sg) \n",
    "                       for sg in nx.weakly_connected_components(contagion_digraph)]"
   ]
  },
  {
   "cell_type": "code",
   "execution_count": 682,
   "metadata": {
    "collapsed": false,
    "jupyter": {
     "outputs_hidden": false
    },
    "pycharm": {
     "name": "#%%\n"
    }
   },
   "outputs": [],
   "source": [
    "REC_CMAP = {0: \"green\", 1: \"yellow\", 2: \"orange\", 3: \"red\", -1: \"black\"}"
   ]
  },
  {
   "cell_type": "code",
   "execution_count": 683,
   "metadata": {
    "collapsed": false,
    "jupyter": {
     "outputs_hidden": false
    },
    "pycharm": {
     "name": "#%%\n"
    }
   },
   "outputs": [
    {
     "data": {
      "image/png": "[encoded data removed]",
      "text/plain": [
       "<Figure size 432x288 with 1 Axes>"
      ]
     },
     "metadata": {},
     "output_type": "display_data"
    },
    {
     "data": {
      "image/png": "[encoded data removed]",
      "text/plain": [
       "<Figure size 432x288 with 1 Axes>"
      ]
     },
     "metadata": {},
     "output_type": "display_data"
    },
    {
     "data": {
      "image/png": "[encoded data removed]",
      "text/plain": [
       "<Figure size 432x288 with 1 Axes>"
      ]
     },
     "metadata": {},
     "output_type": "display_data"
    },
    {
     "data": {
      "image/png": "[encoded data removed]",
      "text/plain": [
       "<Figure size 432x288 with 1 Axes>"
      ]
     },
     "metadata": {},
     "output_type": "display_data"
    },
    {
     "data": {
      "image/png": "[encoded data removed]",
      "text/plain": [
       "<Figure size 432x288 with 1 Axes>"
      ]
     },
     "metadata": {},
     "output_type": "display_data"
    }
   ],
   "source": [
    "for k in range(len(contagion_subgraphs)):\n",
    "    pos = utils.hierarchy_pos(contagion_subgraphs[k])\n",
    "    edge_labels = {(u, v): f\"[{contagion_subgraphs[k][u][v]['time']}]\" \n",
    "                   for u, v in contagion_subgraphs[k].edges}\n",
    "    edge_colors = [REC_CMAP[contagion_subgraphs[k][u][v][\"exposer_rec_level\"]]\n",
    "                   for u, v in contagion_subgraphs[k].edges]\n",
    "    # edge_vmin, edge_vmax = np.percentile(raw_risks_all, 1), np.percentile(raw_risks_all, 99)\n",
    "    edge_vmin, edge_vmax = None, None\n",
    "    nx.draw(contagion_subgraphs[k], \n",
    "            pos=pos, \n",
    "            labels={node: \"H:\" + node.split(\":\")[-1] for node in contagion_subgraphs[k].nodes},\n",
    "            with_labels=True, node_size=500, node_color=\"w\", \n",
    "            edge_color=edge_colors, width=2, edge_cmap=sns.diverging_palette(220, 20, n=7, as_cmap=True, center=\"dark\"), \n",
    "            edge_vmin=edge_vmin, edge_vmax=edge_vmax)\n",
    "    nx.draw_networkx_edge_labels(contagion_subgraphs[k], pos, edge_labels, rotate=False)\n",
    "    plt.show()"
   ]
  },
  {
   "cell_type": "code",
   "execution_count": 684,
   "metadata": {},
   "outputs": [
    {
     "data": {
      "image/png": "[encoded data removed]",
      "text/plain": [
       "<Figure size 432x288 with 1 Axes>"
      ]
     },
     "metadata": {},
     "output_type": "display_data"
    }
   ],
   "source": [
    "_dates, _risk_levels = zip(*extract_sequence(encounter_graph, \"human:92\", lambda d: d[\"human1_state\"][\"risk_level\"], None))\n",
    "plt.figure()\n",
    "plt.plot(_dates, _risk_levels)\n",
    "# locs, labels = plt.xticks()\n",
    "plt.xticks(rotation=\"vertical\")\n",
    "plt.show()"
   ]
  },
  {
   "cell_type": "code",
   "execution_count": null,
   "metadata": {},
   "outputs": [],
   "source": []
  },
  {
   "cell_type": "code",
   "execution_count": 604,
   "metadata": {},
   "outputs": [
    {
     "data": {
      "text/plain": [
       "{'human1_state': {'is_infected': True,\n",
       "  'got_exposed': False,\n",
       "  'caused_exposure': False,\n",
       "  'symptoms': ['gastro',\n",
       "   'light_trouble_breathing',\n",
       "   'nausea_vomiting',\n",
       "   'diarrhea',\n",
       "   'mild',\n",
       "   'trouble_breathing',\n",
       "   'sore_throat'],\n",
       "  'infectiousness': 0.051069554956987055,\n",
       "  'risk': 0.01,\n",
       "  'risk_level': 0,\n",
       "  'rec_level': 0,\n",
       "  'location_type': 'household',\n",
       "  'same_household': True},\n",
       " 'human2_state': {'is_infected': True,\n",
       "  'got_exposed': False,\n",
       "  'caused_exposure': False,\n",
       "  'symptoms': [],\n",
       "  'infectiousness': 0.08692174707975701,\n",
       "  'risk': 0.01,\n",
       "  'risk_level': 0,\n",
       "  'rec_level': 0,\n",
       "  'location_type': 'household',\n",
       "  'same_household': True}}"
      ]
     },
     "execution_count": 604,
     "metadata": {},
     "output_type": "execute_result"
    }
   ],
   "source": [
    "h92.edges[('human:92', 'human:93', datetime(2020, 3, 11, 6, 27))]"
   ]
  },
  {
   "cell_type": "code",
   "execution_count": null,
   "metadata": {},
   "outputs": [],
   "source": []
  },
  {
   "cell_type": "code",
   "execution_count": null,
   "metadata": {},
   "outputs": [],
   "source": []
  }
 ],
 "metadata": {
  "kernelspec": {
   "display_name": "Python 3",
   "language": "python",
   "name": "python3"
  },
  "language_info": {
   "codemirror_mode": {
    "name": "ipython",
    "version": 3
   },
   "file_extension": ".py",
   "mimetype": "text/x-python",
   "name": "python",
   "nbconvert_exporter": "python",
   "pygments_lexer": "ipython3",
   "version": "3.7.6"
  },
  "pycharm": {
   "stem_cell": {
    "cell_type": "raw",
    "metadata": {
     "collapsed": false
    },
    "source": []
   }
  }
 },
 "nbformat": 4,
 "nbformat_minor": 4
}
